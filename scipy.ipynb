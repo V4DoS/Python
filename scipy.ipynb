{
 "cells": [
  {
   "cell_type": "code",
   "execution_count": 3,
   "id": "7d88e076-86bb-41d3-8ccd-f5830b2c6214",
   "metadata": {},
   "outputs": [
    {
     "name": "stdout",
     "output_type": "stream",
     "text": [
      "1.959963984540054\n"
     ]
    }
   ],
   "source": [
    "import scipy.stats as stats     \n",
    "\n",
    "# Находим Z-значение для уровня доверия 95%\n",
    "confidence_level = 0.95\n",
    "alpha = 1 - confidence_level\n",
    "z_value = stats.norm.ppf(1 - alpha/2)\n",
    "print(z_value)  # Output: 1.959963984540054\n"
   ]
  },
  {
   "cell_type": "code",
   "execution_count": 5,
   "id": "aba75065-0406-40ad-86f0-4708952ed855",
   "metadata": {},
   "outputs": [
    {
     "ename": "NameError",
     "evalue": "name 'pep8' is not defined",
     "output_type": "error",
     "traceback": [
      "\u001b[1;31m---------------------------------------------------------------------------\u001b[0m",
      "\u001b[1;31mNameError\u001b[0m                                 Traceback (most recent call last)",
      "Cell \u001b[1;32mIn[5], line 1\u001b[0m\n\u001b[1;32m----> 1\u001b[0m pep8\n",
      "\u001b[1;31mNameError\u001b[0m: name 'pep8' is not defined"
     ]
    }
   ],
   "source": [
    "\n",
    "pep8\n"
   ]
  }
 ],
 "metadata": {
  "kernelspec": {
   "display_name": "Python 3 (ipykernel)",
   "language": "python",
   "name": "python3"
  },
  "language_info": {
   "codemirror_mode": {
    "name": "ipython",
    "version": 3
   },
   "file_extension": ".py",
   "mimetype": "text/x-python",
   "name": "python",
   "nbconvert_exporter": "python",
   "pygments_lexer": "ipython3",
   "version": "3.11.7"
  }
 },
 "nbformat": 4,
 "nbformat_minor": 5
}
