{
 "cells": [
  {
   "cell_type": "code",
   "execution_count": null,
   "id": "35d795a9-dbe6-47b0-92e6-95b605871da6",
   "metadata": {},
   "outputs": [],
   "source": [
    "import numpy as np"
   ]
  },
  {
   "cell_type": "code",
   "execution_count": null,
   "id": "bfa3ea86-7c10-4b1d-a1a4-6c036d4a4677",
   "metadata": {},
   "outputs": [],
   "source": [
    "np.linspace(0,30,20) #массив интервалов  старт ,стоп,чистота"
   ]
  },
  {
   "cell_type": "code",
   "execution_count": null,
   "id": "9d8a9686-c107-49cf-bdb3-560cafc28069",
   "metadata": {},
   "outputs": [],
   "source": [
    "import numpy as np\n",
    "my_array=np.arange(0,25).reshape(5,5)\n",
    "print(my_array)"
   ]
  },
  {
   "cell_type": "markdown",
   "id": "f55bc079-5a8a-415b-bedd-558a38586225",
   "metadata": {
    "jp-MarkdownHeadingCollapsed": true
   },
   "source": [
    "## Атрибуты"
   ]
  },
  {
   "cell_type": "code",
   "execution_count": null,
   "id": "e93cb4c4-550c-47c5-b513-897307b254fb",
   "metadata": {},
   "outputs": [],
   "source": [
    "my_array.size #Количество Элементов"
   ]
  },
  {
   "cell_type": "code",
   "execution_count": null,
   "id": "597e50a5-24c4-4368-8422-45dcb337aedc",
   "metadata": {},
   "outputs": [],
   "source": [
    "my_array.shape #Количество Элементов в каждом измерении"
   ]
  },
  {
   "cell_type": "code",
   "execution_count": null,
   "id": "342e03d4-1314-45af-acf8-d5ab1bc6616b",
   "metadata": {},
   "outputs": [],
   "source": [
    "my_array.ndim #Количество измерений"
   ]
  },
  {
   "cell_type": "code",
   "execution_count": null,
   "id": "43d6efe9-8c61-43f9-8fce-7fb279473dd9",
   "metadata": {},
   "outputs": [],
   "source": [
    "my_array.dtype  #Тип данных"
   ]
  },
  {
   "cell_type": "code",
   "execution_count": null,
   "id": "e3982733-ca83-406d-9398-e6efcb96595c",
   "metadata": {},
   "outputs": [],
   "source": [
    "my_array.nbytes #Объем памяти ( в байтах)"
   ]
  },
  {
   "cell_type": "markdown",
   "id": "f347f04d-60f2-414e-b162-e35076465b18",
   "metadata": {
    "jp-MarkdownHeadingCollapsed": true
   },
   "source": [
    "## Функции"
   ]
  },
  {
   "cell_type": "code",
   "execution_count": null,
   "id": "db951431-a373-43ff-b306-871ce87e57a4",
   "metadata": {},
   "outputs": [],
   "source": [
    "np.mat([1,2,3,4])"
   ]
  },
  {
   "cell_type": "code",
   "execution_count": null,
   "id": "97ab494a-8891-43e5-883e-4c42551c2b2d",
   "metadata": {},
   "outputs": [],
   "source": [
    "np.diag([1,2,3,4,5]) # задаем диагональ матрицы"
   ]
  },
  {
   "cell_type": "code",
   "execution_count": null,
   "id": "52a3fc65-570a-48d6-bf9c-ecfd92327fbc",
   "metadata": {},
   "outputs": [],
   "source": [
    "np.eye(5) # задаем матрицу 5 на 5 по диагонали 1"
   ]
  },
  {
   "cell_type": "code",
   "execution_count": null,
   "id": "6253f453-0295-4cdf-b9ce-130a6d965811",
   "metadata": {},
   "outputs": [],
   "source": [
    "np.ones(25).reshape(5,5)"
   ]
  },
  {
   "cell_type": "code",
   "execution_count": null,
   "id": "aac7aca3-7803-4d5e-9840-750e559a4d21",
   "metadata": {},
   "outputs": [],
   "source": [
    "np.zeros(5)"
   ]
  },
  {
   "cell_type": "markdown",
   "id": "772a6740-6a4a-4a2f-bd12-0e78fad03a04",
   "metadata": {
    "jp-MarkdownHeadingCollapsed": true
   },
   "source": [
    "## Слайcинг и индексация"
   ]
  },
  {
   "cell_type": "code",
   "execution_count": null,
   "id": "def5f954-d4a0-4e25-b91d-208d30b48735",
   "metadata": {},
   "outputs": [],
   "source": [
    "my_array[2]   #Слайсинг,доступ к строке 2."
   ]
  },
  {
   "cell_type": "code",
   "execution_count": null,
   "id": "4ffdfe6a-ae0b-4fe4-b4f1-f301a8aee341",
   "metadata": {},
   "outputs": [],
   "source": [
    "my_array[2,1]  #доступ к строке 2 элемент 1"
   ]
  },
  {
   "cell_type": "code",
   "execution_count": null,
   "id": "3acda5c5-42fc-461f-b81d-9d678dfa4493",
   "metadata": {},
   "outputs": [],
   "source": [
    "my_array[:,3]  #доступ к столбцу 3 и для всех строк"
   ]
  },
  {
   "cell_type": "code",
   "execution_count": null,
   "id": "15af4f04-b4d2-45af-b689-5e15dcfdce55",
   "metadata": {},
   "outputs": [],
   "source": [
    "my_array[0:2, -3:] #доступ к строке 0 1 и столбцу последним трем"
   ]
  },
  {
   "cell_type": "markdown",
   "id": "d3839a22-abb4-42d7-8b6d-a109b4886881",
   "metadata": {
    "jp-MarkdownHeadingCollapsed": true
   },
   "source": [
    "## Изменение значений в массиве"
   ]
  },
  {
   "cell_type": "code",
   "execution_count": null,
   "id": "5451e0e0-89e1-4a3e-802c-59bfab0547e0",
   "metadata": {},
   "outputs": [],
   "source": [
    "my_array[0,0]=200 # заменяем 0 элемент строки и 0 лем столбца то-есть первый в массиве\n",
    "my_array"
   ]
  },
  {
   "cell_type": "code",
   "execution_count": null,
   "id": "7a504d67-c4f4-4ed6-a17b-bfcd8a9a71d3",
   "metadata": {},
   "outputs": [],
   "source": [
    "my_array[1:,:3]=0  # Зануление элементов со2й строки и по 3й столбец\n",
    "my_array"
   ]
  },
  {
   "cell_type": "markdown",
   "id": "155aa512-1b46-4944-af76-0a65f7b6e274",
   "metadata": {
    "jp-MarkdownHeadingCollapsed": true
   },
   "source": [
    "## Поэлементные операции"
   ]
  },
  {
   "cell_type": "code",
   "execution_count": null,
   "id": "e43d6cd8-ba3d-4b36-b287-57f9157e2c5e",
   "metadata": {},
   "outputs": [],
   "source": [
    "my_array1=np.arange(25,50).reshape(5,5)\n",
    "my_array1"
   ]
  },
  {
   "cell_type": "code",
   "execution_count": null,
   "id": "f4944a28-753e-40ea-9254-3b5da5213471",
   "metadata": {},
   "outputs": [],
   "source": [
    "result=my_array*my_array1\n",
    "result"
   ]
  },
  {
   "cell_type": "markdown",
   "id": "e575a49d-66c8-4d93-b343-920becdd0fac",
   "metadata": {
    "jp-MarkdownHeadingCollapsed": true
   },
   "source": [
    "## Методы массива"
   ]
  },
  {
   "cell_type": "code",
   "execution_count": null,
   "id": "83cfec6b-c966-4a31-a981-1da7cad7e82d",
   "metadata": {},
   "outputs": [],
   "source": [
    "import numpy as np\n",
    "data=np.arange(9).reshape(3,3)\n",
    "data"
   ]
  },
  {
   "cell_type": "code",
   "execution_count": null,
   "id": "a0ea103c-5ee5-434d-b3c5-e3c4822628d5",
   "metadata": {},
   "outputs": [],
   "source": [
    "data.max()"
   ]
  },
  {
   "cell_type": "code",
   "execution_count": null,
   "id": "0902eb24-36da-4d67-943e-2e4138fb42f4",
   "metadata": {},
   "outputs": [],
   "source": [
    "data.min()"
   ]
  },
  {
   "cell_type": "code",
   "execution_count": null,
   "id": "85d2a863-9f9c-4edf-a63e-ac3cd0c169cd",
   "metadata": {},
   "outputs": [],
   "source": [
    "data.sum()"
   ]
  },
  {
   "cell_type": "code",
   "execution_count": null,
   "id": "f2716036-ee8d-4971-9a3e-56afa626a15b",
   "metadata": {},
   "outputs": [],
   "source": [
    "data.mean()"
   ]
  },
  {
   "cell_type": "code",
   "execution_count": null,
   "id": "cd2dd168-8b38-4a00-a587-145fbc25f3b9",
   "metadata": {},
   "outputs": [],
   "source": [
    "data.std() #стандартное оклонение"
   ]
  },
  {
   "cell_type": "code",
   "execution_count": null,
   "id": "d8907422-1dc6-4c90-bc13-a729dccbeee4",
   "metadata": {},
   "outputs": [],
   "source": [
    "data.sum(axis=1) #сумма каждой строки"
   ]
  },
  {
   "cell_type": "code",
   "execution_count": null,
   "id": "6e63b396-4f93-4ef6-922c-9b4e6bec94e7",
   "metadata": {},
   "outputs": [],
   "source": [
    "data.sum(axis=0) #сумма каждого столбца"
   ]
  },
  {
   "cell_type": "code",
   "execution_count": null,
   "id": "4795af71-cbec-47bd-b723-d43f1b1257f6",
   "metadata": {},
   "outputs": [],
   "source": [
    "data.T # Транспонирование"
   ]
  },
  {
   "cell_type": "code",
   "execution_count": null,
   "id": "270ad255-6231-45d4-8789-e4a61cdcd0ed",
   "metadata": {},
   "outputs": [],
   "source": [
    "data1=np.arange(9,18).reshape(3,3)\n",
    "data1"
   ]
  },
  {
   "cell_type": "code",
   "execution_count": null,
   "id": "06179b40-6bfd-445e-a91e-aec2e431591b",
   "metadata": {},
   "outputs": [],
   "source": [
    "data.dot(data1) #Скаларное произведение"
   ]
  },
  {
   "cell_type": "code",
   "execution_count": null,
   "id": "8858bab5-996f-4c83-b44e-c1ae1efadddb",
   "metadata": {},
   "outputs": [],
   "source": [
    "data1.diagonal()"
   ]
  },
  {
   "cell_type": "code",
   "execution_count": null,
   "id": "9bc41de5-2d98-419a-bb7b-77e78750f039",
   "metadata": {},
   "outputs": [],
   "source": [
    "data.resize(9,1)\n",
    "data"
   ]
  },
  {
   "cell_type": "code",
   "execution_count": null,
   "id": "44be8dd0-d484-470c-8f7d-3a7271fabddb",
   "metadata": {},
   "outputs": [],
   "source": [
    "data2=data.copy()\n",
    "data2.resize(9,1)\n",
    "data2\n",
    "\n",
    "\n"
   ]
  },
  {
   "cell_type": "markdown",
   "id": "7e21c0c6-97f2-49b9-8af8-cf4d31f7e8a1",
   "metadata": {
    "jp-MarkdownHeadingCollapsed": true
   },
   "source": [
    "## Определитель,Ранг матрицы,Норма,Singular Value Decomposition(SVD),Инверсия"
   ]
  },
  {
   "cell_type": "code",
   "execution_count": null,
   "id": "17ff1ed0-43c3-4c62-befd-ee3b431d1a3c",
   "metadata": {},
   "outputs": [],
   "source": [
    "import numpy as np\n",
    "mat=np.array([[1,2,3],[4,5,6],[3,6,9]])\n",
    "mat"
   ]
  },
  {
   "cell_type": "code",
   "execution_count": null,
   "id": "139d5825-c3f0-4911-b52d-f269fc20bd70",
   "metadata": {},
   "outputs": [],
   "source": [
    "print('Определить матрицы =', int(np.linalg.det(mat)))"
   ]
  },
  {
   "cell_type": "code",
   "execution_count": null,
   "id": "0277c9d5-6e9a-4dbc-934c-1dea1940baef",
   "metadata": {},
   "outputs": [],
   "source": [
    "print('Ранг Матрицы =', np.linalg.matrix_rank(mat))"
   ]
  },
  {
   "cell_type": "code",
   "execution_count": null,
   "id": "985f7a72-adb6-44eb-b690-fb72e9d26e11",
   "metadata": {},
   "outputs": [],
   "source": [
    "print('Норма матрицы =', np.linalg.norm(mat))"
   ]
  },
  {
   "cell_type": "code",
   "execution_count": null,
   "id": "9eb624a6-27fd-4001-9fb5-11084caf7bfb",
   "metadata": {},
   "outputs": [],
   "source": [
    "print('Singular Value Decomposition(SVD) =', np.linalg.svd(mat))"
   ]
  },
  {
   "cell_type": "code",
   "execution_count": null,
   "id": "c71d8189-315a-41fc-bbfc-d20d7155c00b",
   "metadata": {},
   "outputs": [],
   "source": [
    "print('Инверсия матрицы =', np.linalg.inv(mat))"
   ]
  },
  {
   "cell_type": "code",
   "execution_count": null,
   "id": "f74001dd-1b23-47a2-8389-e5eee995afae",
   "metadata": {},
   "outputs": [],
   "source": []
  },
  {
   "cell_type": "code",
   "execution_count": null,
   "id": "41fc3cc4-298b-49c0-b1ce-bc2091748576",
   "metadata": {},
   "outputs": [],
   "source": []
  }
 ],
 "metadata": {
  "kernelspec": {
   "display_name": "Python 3 (ipykernel)",
   "language": "python",
   "name": "python3"
  },
  "language_info": {
   "codemirror_mode": {
    "name": "ipython",
    "version": 3
   },
   "file_extension": ".py",
   "mimetype": "text/x-python",
   "name": "python",
   "nbconvert_exporter": "python",
   "pygments_lexer": "ipython3",
   "version": "3.11.7"
  }
 },
 "nbformat": 4,
 "nbformat_minor": 5
}
