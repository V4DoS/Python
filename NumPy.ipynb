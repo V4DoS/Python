{
 "cells": [
  {
   "cell_type": "code",
   "execution_count": null,
   "id": "35d795a9-dbe6-47b0-92e6-95b605871da6",
   "metadata": {},
   "outputs": [],
   "source": [
    "import numpy as np"
   ]
  },
  {
   "cell_type": "code",
   "execution_count": null,
   "id": "bfa3ea86-7c10-4b1d-a1a4-6c036d4a4677",
   "metadata": {},
   "outputs": [],
   "source": [
    "np.linspace(0,30,20) #массив интервалов  старт ,стоп,чистота\n",
    "#часто используется в фостроении графиков по оси X"
   ]
  },
  {
   "cell_type": "code",
   "execution_count": 5,
   "id": "9d8a9686-c107-49cf-bdb3-560cafc28069",
   "metadata": {},
   "outputs": [
    {
     "name": "stdout",
     "output_type": "stream",
     "text": [
      "[[ 0  1  2  3  4]\n",
      " [ 5  6  7  8  9]\n",
      " [10 11 12 13 14]\n",
      " [15 16 17 18 19]]\n"
     ]
    }
   ],
   "source": [
    "import numpy as np # Создание массива от 0 до 20 в 4 строки и 5 колонок\n",
    "my_array=np.arange(0,20).reshape(4,5)   #reshape(-1,1) - изменение формы в 1 столбец \n",
    "print(my_array)"
   ]
  },
  {
   "cell_type": "code",
   "execution_count": null,
   "id": "ed5d57dc-18dc-4885-812c-8e59741f1013",
   "metadata": {},
   "outputs": [],
   "source": [
    "import numpy as np      # Создание двумерного массива от 0 до 20 в 2 строки и 5 колонок\n",
    "my_array=np.arange(0,20).reshape(2,2,5)\n",
    "print(my_array)"
   ]
  },
  {
   "cell_type": "code",
   "execution_count": null,
   "id": "7979287d-ce13-4dd7-8089-122acc4cfe8b",
   "metadata": {},
   "outputs": [],
   "source": [
    "import numpy as np\n",
    "# Генерация двумерного массива 3x4 из случайных чисел из стандартного нормального распределения\n",
    "random_matrix = np.random.randn(3, 4)\n",
    "print(random_matrix)"
   ]
  },
  {
   "cell_type": "code",
   "execution_count": null,
   "id": "32ca7abc-7583-4108-9417-e6a9332f2c8e",
   "metadata": {},
   "outputs": [],
   "source": [
    "x = np.arange(-8, 2, 0.1) # Создание массива с шагом в 0.1\n",
    "print(x)"
   ]
  },
  {
   "cell_type": "markdown",
   "id": "f55bc079-5a8a-415b-bedd-558a38586225",
   "metadata": {},
   "source": [
    "## Атрибуты"
   ]
  },
  {
   "cell_type": "code",
   "execution_count": null,
   "id": "e93cb4c4-550c-47c5-b513-897307b254fb",
   "metadata": {},
   "outputs": [],
   "source": [
    "my_array.size #Количество Элементов"
   ]
  },
  {
   "cell_type": "code",
   "execution_count": null,
   "id": "597e50a5-24c4-4368-8422-45dcb337aedc",
   "metadata": {},
   "outputs": [],
   "source": [
    "my_array.shape #Количество Элементов в каждом измерении"
   ]
  },
  {
   "cell_type": "code",
   "execution_count": null,
   "id": "342e03d4-1314-45af-acf8-d5ab1bc6616b",
   "metadata": {},
   "outputs": [],
   "source": [
    "my_array.ndim #Количество измерений"
   ]
  },
  {
   "cell_type": "code",
   "execution_count": null,
   "id": "43d6efe9-8c61-43f9-8fce-7fb279473dd9",
   "metadata": {},
   "outputs": [],
   "source": [
    "my_array.dtype  #Тип данных"
   ]
  },
  {
   "cell_type": "code",
   "execution_count": null,
   "id": "7559224b-ac57-4bdd-91ae-ec91792e9e51",
   "metadata": {},
   "outputs": [],
   "source": [
    "my_array.dtype=np.int8"
   ]
  },
  {
   "cell_type": "code",
   "execution_count": null,
   "id": "77417a05-a573-41cf-8ff4-eaaaa7f7393f",
   "metadata": {},
   "outputs": [],
   "source": [
    "my_array.dtype"
   ]
  },
  {
   "cell_type": "code",
   "execution_count": null,
   "id": "e3982733-ca83-406d-9398-e6efcb96595c",
   "metadata": {},
   "outputs": [],
   "source": [
    "my_array.nbytes #Объем памяти ( в байтах)"
   ]
  },
  {
   "cell_type": "markdown",
   "id": "f347f04d-60f2-414e-b162-e35076465b18",
   "metadata": {},
   "source": [
    "## Функции"
   ]
  },
  {
   "cell_type": "code",
   "execution_count": null,
   "id": "db951431-a373-43ff-b306-871ce87e57a4",
   "metadata": {},
   "outputs": [],
   "source": [
    "np.mat([1,2,3,4])"
   ]
  },
  {
   "cell_type": "code",
   "execution_count": null,
   "id": "97ab494a-8891-43e5-883e-4c42551c2b2d",
   "metadata": {},
   "outputs": [],
   "source": [
    "np.diag([1,2,3,4,5]) # задаем диагональ матрицы"
   ]
  },
  {
   "cell_type": "code",
   "execution_count": null,
   "id": "52a3fc65-570a-48d6-bf9c-ecfd92327fbc",
   "metadata": {},
   "outputs": [],
   "source": [
    "np.eye(5) # задаем матрицу 5 на 5 по диагонали 1"
   ]
  },
  {
   "cell_type": "code",
   "execution_count": null,
   "id": "6253f453-0295-4cdf-b9ce-130a6d965811",
   "metadata": {},
   "outputs": [],
   "source": [
    "np.ones(25).reshape(5,5)"
   ]
  },
  {
   "cell_type": "code",
   "execution_count": null,
   "id": "aac7aca3-7803-4d5e-9840-750e559a4d21",
   "metadata": {},
   "outputs": [],
   "source": [
    "np.zeros(5)"
   ]
  },
  {
   "cell_type": "code",
   "execution_count": null,
   "id": "1ca7ab66-70ba-4c8d-b98c-d8c6982b1790",
   "metadata": {},
   "outputs": [],
   "source": [
    "np.full([3,2,2,],5) #Создание массива 3х2х2 со всеми 5ми"
   ]
  },
  {
   "cell_type": "code",
   "execution_count": null,
   "id": "48db2c92-1b26-4d79-832b-ce0bf7fe24c8",
   "metadata": {},
   "outputs": [],
   "source": [
    "np.arange(5,15,0.5) #массив от 5 до 15 с шагом 2"
   ]
  },
  {
   "cell_type": "markdown",
   "id": "772a6740-6a4a-4a2f-bd12-0e78fad03a04",
   "metadata": {},
   "source": [
    "## Слайcинг и индексация"
   ]
  },
  {
   "cell_type": "code",
   "execution_count": null,
   "id": "def5f954-d4a0-4e25-b91d-208d30b48735",
   "metadata": {},
   "outputs": [],
   "source": [
    "my_array[2]   #Слайсинг,доступ к строке 2."
   ]
  },
  {
   "cell_type": "code",
   "execution_count": null,
   "id": "4ffdfe6a-ae0b-4fe4-b4f1-f301a8aee341",
   "metadata": {},
   "outputs": [],
   "source": [
    "my_array[2,1]  #доступ к строке 2 элемент 1"
   ]
  },
  {
   "cell_type": "code",
   "execution_count": null,
   "id": "3acda5c5-42fc-461f-b81d-9d678dfa4493",
   "metadata": {},
   "outputs": [],
   "source": [
    "my_array[:,3]  #доступ к столбцу 3 и для всех строк"
   ]
  },
  {
   "cell_type": "code",
   "execution_count": null,
   "id": "15af4f04-b4d2-45af-b689-5e15dcfdce55",
   "metadata": {},
   "outputs": [],
   "source": [
    "my_array[0:2, -3:] #доступ к строке 0 1 и столбцу последним трем"
   ]
  },
  {
   "cell_type": "markdown",
   "id": "d3839a22-abb4-42d7-8b6d-a109b4886881",
   "metadata": {},
   "source": [
    "## Изменение значений в массиве"
   ]
  },
  {
   "cell_type": "code",
   "execution_count": null,
   "id": "5451e0e0-89e1-4a3e-802c-59bfab0547e0",
   "metadata": {},
   "outputs": [],
   "source": [
    "my_array[0,0]=200 # заменяем 0 элемент строки и 0 лем столбца то-есть первый в массиве\n",
    "my_array"
   ]
  },
  {
   "cell_type": "code",
   "execution_count": null,
   "id": "7a504d67-c4f4-4ed6-a17b-bfcd8a9a71d3",
   "metadata": {},
   "outputs": [],
   "source": [
    "my_array[1:,:3]=0  # Зануление элементов со2й строки и по 3й столбец\n",
    "my_array"
   ]
  },
  {
   "cell_type": "markdown",
   "id": "155aa512-1b46-4944-af76-0a65f7b6e274",
   "metadata": {},
   "source": [
    "## Поэлементные операции"
   ]
  },
  {
   "cell_type": "code",
   "execution_count": null,
   "id": "e43d6cd8-ba3d-4b36-b287-57f9157e2c5e",
   "metadata": {},
   "outputs": [],
   "source": [
    "my_array1=np.arange(25,50).reshape(5,5)\n",
    "my_array1"
   ]
  },
  {
   "cell_type": "code",
   "execution_count": null,
   "id": "f4944a28-753e-40ea-9254-3b5da5213471",
   "metadata": {},
   "outputs": [],
   "source": [
    "result=my_array*my_array1\n",
    "result"
   ]
  },
  {
   "cell_type": "markdown",
   "id": "e575a49d-66c8-4d93-b343-920becdd0fac",
   "metadata": {},
   "source": [
    "## Методы массива"
   ]
  },
  {
   "cell_type": "code",
   "execution_count": null,
   "id": "83cfec6b-c966-4a31-a981-1da7cad7e82d",
   "metadata": {},
   "outputs": [],
   "source": [
    "import numpy as np\n",
    "data=np.arange(9).reshape(3,3)\n",
    "data"
   ]
  },
  {
   "cell_type": "code",
   "execution_count": null,
   "id": "a0ea103c-5ee5-434d-b3c5-e3c4822628d5",
   "metadata": {},
   "outputs": [],
   "source": [
    "data.max()"
   ]
  },
  {
   "cell_type": "code",
   "execution_count": null,
   "id": "0902eb24-36da-4d67-943e-2e4138fb42f4",
   "metadata": {},
   "outputs": [],
   "source": [
    "data.min()"
   ]
  },
  {
   "cell_type": "code",
   "execution_count": null,
   "id": "85d2a863-9f9c-4edf-a63e-ac3cd0c169cd",
   "metadata": {},
   "outputs": [],
   "source": [
    "data.sum()"
   ]
  },
  {
   "cell_type": "code",
   "execution_count": null,
   "id": "f2716036-ee8d-4971-9a3e-56afa626a15b",
   "metadata": {},
   "outputs": [],
   "source": [
    "data.mean()"
   ]
  },
  {
   "cell_type": "code",
   "execution_count": null,
   "id": "cd2dd168-8b38-4a00-a587-145fbc25f3b9",
   "metadata": {},
   "outputs": [],
   "source": [
    "data.std() #стандартное оклонение"
   ]
  },
  {
   "cell_type": "code",
   "execution_count": null,
   "id": "d8907422-1dc6-4c90-bc13-a729dccbeee4",
   "metadata": {},
   "outputs": [],
   "source": [
    "data.sum(axis=1) #сумма каждой строки"
   ]
  },
  {
   "cell_type": "code",
   "execution_count": null,
   "id": "6e63b396-4f93-4ef6-922c-9b4e6bec94e7",
   "metadata": {},
   "outputs": [],
   "source": [
    "data.sum(axis=0) #сумма каждого столбца"
   ]
  },
  {
   "cell_type": "code",
   "execution_count": null,
   "id": "4795af71-cbec-47bd-b723-d43f1b1257f6",
   "metadata": {},
   "outputs": [],
   "source": [
    "data.T # Транспонирование"
   ]
  },
  {
   "cell_type": "code",
   "execution_count": null,
   "id": "270ad255-6231-45d4-8789-e4a61cdcd0ed",
   "metadata": {},
   "outputs": [],
   "source": [
    "data1=np.arange(9,18).reshape(3,3)\n",
    "data1"
   ]
  },
  {
   "cell_type": "code",
   "execution_count": null,
   "id": "06179b40-6bfd-445e-a91e-aec2e431591b",
   "metadata": {},
   "outputs": [],
   "source": [
    "data.dot(data1) #Скаларное произведение"
   ]
  },
  {
   "cell_type": "code",
   "execution_count": null,
   "id": "8858bab5-996f-4c83-b44e-c1ae1efadddb",
   "metadata": {},
   "outputs": [],
   "source": [
    "data1.diagonal()"
   ]
  },
  {
   "cell_type": "code",
   "execution_count": null,
   "id": "9bc41de5-2d98-419a-bb7b-77e78750f039",
   "metadata": {},
   "outputs": [],
   "source": [
    "data.resize(9,1)\n",
    "data"
   ]
  },
  {
   "cell_type": "code",
   "execution_count": null,
   "id": "44be8dd0-d484-470c-8f7d-3a7271fabddb",
   "metadata": {},
   "outputs": [],
   "source": [
    "data2=data.copy()\n",
    "data2.resize(9,1) #меняем представление массива\n",
    "data2"
   ]
  },
  {
   "cell_type": "markdown",
   "id": "7e21c0c6-97f2-49b9-8af8-cf4d31f7e8a1",
   "metadata": {},
   "source": [
    "## Определитель,Ранг матрицы,Норма,Singular Value Decomposition(SVD),Инверсия"
   ]
  },
  {
   "cell_type": "code",
   "execution_count": null,
   "id": "17ff1ed0-43c3-4c62-befd-ee3b431d1a3c",
   "metadata": {},
   "outputs": [],
   "source": [
    "import numpy as np\n",
    "mat=np.array([[1,2,3],[4,5,6],[3,6,9]])\n",
    "mat"
   ]
  },
  {
   "cell_type": "code",
   "execution_count": null,
   "id": "139d5825-c3f0-4911-b52d-f269fc20bd70",
   "metadata": {},
   "outputs": [],
   "source": [
    "print('Определить матрицы =', int(np.linalg.det(mat)))"
   ]
  },
  {
   "cell_type": "code",
   "execution_count": null,
   "id": "0277c9d5-6e9a-4dbc-934c-1dea1940baef",
   "metadata": {},
   "outputs": [],
   "source": [
    "print('Ранг Матрицы =', np.linalg.matrix_rank(mat))"
   ]
  },
  {
   "cell_type": "code",
   "execution_count": null,
   "id": "985f7a72-adb6-44eb-b690-fb72e9d26e11",
   "metadata": {},
   "outputs": [],
   "source": [
    "print('Норма матрицы =', np.linalg.norm(mat))"
   ]
  },
  {
   "cell_type": "code",
   "execution_count": null,
   "id": "9eb624a6-27fd-4001-9fb5-11084caf7bfb",
   "metadata": {},
   "outputs": [],
   "source": [
    "print('Singular Value Decomposition(SVD) =', np.linalg.svd(mat))"
   ]
  },
  {
   "cell_type": "code",
   "execution_count": null,
   "id": "c71d8189-315a-41fc-bbfc-d20d7155c00b",
   "metadata": {},
   "outputs": [],
   "source": [
    "print('Инверсия матрицы =', np.linalg.inv(mat))"
   ]
  },
  {
   "cell_type": "markdown",
   "id": "3d2d0b3a-bf44-49b0-88ec-cefb87c1211a",
   "metadata": {},
   "source": [
    "## Тензоры. ML. Нейронки"
   ]
  },
  {
   "cell_type": "code",
   "execution_count": null,
   "id": "41fc3cc4-298b-49c0-b1ce-bc2091748576",
   "metadata": {},
   "outputs": [],
   "source": [
    "import numpy as np\n",
    "# Создаем трехмерный тензор размером 3x3x3\n",
    "tensor = np.random.random((3, 3, 3))\n",
    "print(tensor)"
   ]
  },
  {
   "cell_type": "code",
   "execution_count": null,
   "id": "09e84f72-e24b-4731-ab71-c04956d3394e",
   "metadata": {},
   "outputs": [],
   "source": [
    "import numpy as np\n",
    "\n",
    "# Создаем тензор размером 3x3x3\n",
    "tensor1 = np.random.random((3, 3, 3))\n",
    "tensor2 = np.random.random((3, 3, 3))\n",
    "\n",
    "# Арифметические операции\n",
    "sum_tensor = tensor1 + tensor2\n",
    "diff_tensor = tensor1 - tensor2\n",
    "product_tensor = tensor1 * tensor2\n",
    "quotient_tensor = tensor1 / tensor2\n",
    "\n",
    "# Изменение формы\n",
    "reshaped_tensor = tensor1.reshape(9, 3)\n",
    "\n",
    "# Агрегация данных\n",
    "total_sum = tensor1.sum()\n",
    "mean_value = tensor1.mean()\n",
    "max_value = tensor1.max()\n",
    "min_value = tensor1.min()\n",
    "\n",
    "# Транспонирование\n",
    "transposed_tensor = tensor1.transpose(1, 0, 2)\n",
    "\n",
    "# Матричное умножение\n",
    "tensor3 = np.random.random((3, 4, 5))\n",
    "tensor4 = np.random.random((3, 5, 4))\n",
    "dot_product = np.dot(tensor3, tensor4)\n",
    "matmul_product = np.matmul(tensor3, tensor4)\n",
    "\n",
    "# Индексация и срезы\n",
    "element = tensor1[0, 1, 2]\n",
    "slice_tensor = tensor1[1, :, :]\n",
    "\n",
    "# Вывод результатов\n",
    "print(\"Sum:\\n\", sum_tensor)\n",
    "print(\"Difference:\\n\", diff_tensor)\n",
    "print(\"Product:\\n\", product_tensor)\n",
    "print(\"Quotient:\\n\", quotient_tensor)\n",
    "print(\"Reshaped tensor shape:\", reshaped_tensor.shape)\n",
    "print(\"Total sum:\", total_sum)\n",
    "print(\"Mean value:\", mean_value)\n",
    "print(\"Max value:\", max_value)\n",
    "print(\"Min value:\", min_value)\n",
    "print(\"Transposed tensor shape:\", transposed_tensor.shape)\n",
    "print(\"Dot product shape:\", dot_product.shape)\n",
    "print(\"Matmul product shape:\", matmul_product.shape)\n",
    "print(\"Element at [0, 1, 2]:\", element)\n",
    "print(\"Slice along first axis:\\n\", slice_tensor)"
   ]
  },
  {
   "cell_type": "code",
   "execution_count": null,
   "id": "8fd6a5f1-c342-473b-a667-dbdfcf5288d2",
   "metadata": {},
   "outputs": [],
   "source": [
    "import numpy as np               #Нормализация данных\n",
    "\n",
    "# Создаем случайные данные\n",
    "data = np.random.random((100, 3)) * 100\n",
    "# Нормализуем данные к диапазону [0, 1]\n",
    "normalized_data = (data - data.min(axis=0)) / (data.max(axis=0) - data.min(axis=0))\n",
    "print(normalized_data[:5])"
   ]
  },
  {
   "cell_type": "code",
   "execution_count": null,
   "id": "31fe135b-f4c4-4267-b806-4f0e9351cded",
   "metadata": {},
   "outputs": [],
   "source": [
    "def sigmoid(x):                    #Функции активации Сигмоида\n",
    "    return 1 / (1 + np.exp(-x))\n",
    "\n",
    "# Пример использования\n",
    "input_data = np.array([1.0, 2.0, -1.0])\n",
    "output_data = sigmoid(input_data)\n",
    "print(output_data)"
   ]
  },
  {
   "cell_type": "code",
   "execution_count": null,
   "id": "c6a2cd3d-2a4a-4314-86ac-e092b4187c3b",
   "metadata": {},
   "outputs": [],
   "source": [
    "def relu(x):               #Функции активации Relu\n",
    "    return np.maximum(0, x)\n",
    "\n",
    "# Пример использования\n",
    "output_data = relu(input_data)\n",
    "print(output_data)"
   ]
  },
  {
   "cell_type": "code",
   "execution_count": null,
   "id": "ade6b812-236f-4b8f-a4da-454714bdae3e",
   "metadata": {},
   "outputs": [],
   "source": [
    "\n"
   ]
  }
 ],
 "metadata": {
  "kernelspec": {
   "display_name": "Python 3 (ipykernel)",
   "language": "python",
   "name": "python3"
  },
  "language_info": {
   "codemirror_mode": {
    "name": "ipython",
    "version": 3
   },
   "file_extension": ".py",
   "mimetype": "text/x-python",
   "name": "python",
   "nbconvert_exporter": "python",
   "pygments_lexer": "ipython3",
   "version": "3.11.7"
  }
 },
 "nbformat": 4,
 "nbformat_minor": 5
}
