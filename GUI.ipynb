{
 "cells": [
  {
   "cell_type": "markdown",
   "id": "2de163a0",
   "metadata": {},
   "source": [
    "# pyQT"
   ]
  },
  {
   "cell_type": "code",
   "execution_count": null,
   "id": "bd0eed64",
   "metadata": {},
   "outputs": [],
   "source": [
    "import sys\n",
    "from PyQt6.QtWidgets import QApplication, QWidget, QVBoxLayout, QPushButton, QLabel\n",
    "from PyQt6.QtGui import QFont, QFontInfo\n",
    "import random\n",
    "\n",
    "class DiceGame(QWidget):\n",
    "    def __init__(self):\n",
    "        super().__init__()\n",
    "\n",
    "        self.MIN = 1\n",
    "        self.MAX = 6\n",
    "\n",
    "        self.init_ui()\n",
    "\n",
    "    def init_ui(self):\n",
    "        # Создаем и настраиваем метки\n",
    "        self.result_label = QLabel('Значение граней:')\n",
    "        font_info = QFontInfo(QFont('Arial', 16))  # Получаем информацию о шрифте\n",
    "        self.result_label.setFont(QFont(font_info.family(), 16))  # Устанавливаем шрифт и размер\n",
    "\n",
    "        self.sum_label = QLabel('Сумма:')\n",
    "        self.sum_label.setFont(QFont(font_info.family(), 16))  # Устанавливаем шрифт и размер\n",
    "\n",
    "        # Создаем кнопку\n",
    "        self.roll_button = QPushButton('Бросить кубики', self)\n",
    "        self.roll_button.setFont(QFont(font_info.family(), 16))  # Устанавливаем шрифт и размер\n",
    "        self.roll_button.setStyleSheet(\"background-color: lightblue;\")  # Устанавливаем цвет фона кнопки\n",
    "\n",
    "        # Настраиваем компоновку\n",
    "        layout = QVBoxLayout()\n",
    "        layout.addWidget(self.result_label)\n",
    "        layout.addWidget(self.sum_label)\n",
    "        layout.addWidget(self.roll_button)\n",
    "\n",
    "        # Подключаем обработчик события для кнопки\n",
    "        self.roll_button.clicked.connect(self.roll_dice)\n",
    "\n",
    "        # Устанавливаем компоновку в качестве основной\n",
    "        self.setLayout(layout)\n",
    "\n",
    "        # Устанавливаем параметры окна\n",
    "        self.setGeometry(300, 300, 300, 200)\n",
    "        self.setWindowTitle('Игра в кубики')\n",
    "        self.show()\n",
    "\n",
    "    def roll_dice(self):\n",
    "        print(\"Бросаем кубики...\")\n",
    "        result_1 = random.randint(self.MIN, self.MAX)\n",
    "        result_2 = random.randint(self.MIN, self.MAX)\n",
    "\n",
    "        # Обновляем текст меток\n",
    "        self.result_label.setText(f'Значение граней: {result_1}, {result_2}')\n",
    "        self.sum_label.setText(f'Сумма: {result_1 + result_2}')\n",
    "\n",
    "if __name__ == '__main__':\n",
    "    app = QApplication(sys.argv)\n",
    "    ex = DiceGame()\n",
    "    sys.exit(app.exec())\n",
    "\n",
    "    \n",
    "#pip uninstall pathlib"
   ]
  }
 ],
 "metadata": {
  "kernelspec": {
   "display_name": "Python 3 (ipykernel)",
   "language": "python",
   "name": "python3"
  },
  "language_info": {
   "codemirror_mode": {
    "name": "ipython",
    "version": 3
   },
   "file_extension": ".py",
   "mimetype": "text/x-python",
   "name": "python",
   "nbconvert_exporter": "python",
   "pygments_lexer": "ipython3",
   "version": "3.11.5"
  }
 },
 "nbformat": 4,
 "nbformat_minor": 5
}
