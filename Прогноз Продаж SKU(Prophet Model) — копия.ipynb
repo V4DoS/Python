{
 "cells": [
  {
   "cell_type": "markdown",
   "id": "6602198e",
   "metadata": {},
   "source": [
    "#  PROPHET"
   ]
  },
  {
   "cell_type": "code",
   "execution_count": null,
   "id": "379f57a3",
   "metadata": {},
   "outputs": [],
   "source": [
    "%%time                    # прогноз без сезенности(Более подходящий)\n",
    "import pandas as pd\n",
    "from prophet import Prophet\n",
    "\n",
    "# Загрузка данных из Excel-файла с корректным форматом даты\n",
    "data = pd.read_excel('C:/Users/bondarenKovv/Desktop/Python/SKU for prophet.xlsx')\n",
    "\n",
    "# Преобразование формата даты\n",
    "data['Дата'] = pd.to_datetime(data['Дата'], format='%d.%m.%Y', dayfirst=True)\n",
    "\n",
    "# Подготовка данных для применения модели Prophet\n",
    "data = data.rename(columns={'Дата': 'ds', 'Код товара': 'SKU', 'Продажи, кг': 'y'})\n",
    "data['y'] = data['y'].astype(float)\n",
    "\n",
    "# Группировка данных по товару\n",
    "grouped_data = data.groupby('SKU')\n",
    "\n",
    "# Создание пустого DataFrame для хранения прогнозов\n",
    "all_forecasts = pd.DataFrame()\n",
    "\n",
    "# Прогнозирование продаж для каждого товара\n",
    "for sku, sku_data in grouped_data:\n",
    "    # Проверка на наличие пропущенных значений в столбце 'y'\n",
    "    if sku_data['y'].notnull().sum() < 2:\n",
    "        continue  # Пропускаем прогноз для товаров с меньше чем 2 непропущенными значениями 'y'\n",
    "\n",
    "    # Создание и обучение модели Prophet для каждого товара\n",
    "    model = Prophet()\n",
    "    model.fit(sku_data[['ds', 'y']])\n",
    "\n",
    "    # Создание DataFrame для прогноза на 60 дней вперед\n",
    "    future = model.make_future_dataframe(periods=60)\n",
    "    forecast = model.predict(future)\n",
    "    forecast['SKU'] = sku  # Добавление информации о товаре\n",
    "\n",
    "    # Добавление прогноза для текущего товара к общему DataFrame\n",
    "    all_forecasts = pd.concat([all_forecasts, forecast])\n",
    "\n",
    "# Сохранение результатов в новом Excel-файле\n",
    "selected_columns = ['ds', 'SKU', 'yhat', 'yhat_upper', 'yhat_lower']\n",
    "all_forecasts[selected_columns].to_excel('прогноз_продаж_по_SKU.xlsx', index=False)\n"
   ]
  },
  {
   "cell_type": "code",
   "execution_count": null,
   "id": "446eabe2",
   "metadata": {},
   "outputs": [],
   "source": [
    "%%time               # прогноз с сезенностью( не нравится)\n",
    "import pandas as pd\n",
    "from prophet import Prophet\n",
    "\n",
    "# Загрузка данных из Excel-файла с корректным форматом даты\n",
    "data = pd.read_excel('C:/Users/bondarenKovv/Desktop/Python/SKU for prophet.xlsx')\n",
    "\n",
    "# Преобразование формата даты\n",
    "data['Дата'] = pd.to_datetime(data['Дата'], format='%d.%m.%Y', dayfirst=True)\n",
    "\n",
    "# Подготовка данных для применения модели Prophet\n",
    "data = data.rename(columns={'Дата': 'ds', 'Код товара': 'SKU', 'Продажи, кг': 'y'})\n",
    "data['y'] = data['y'].astype(float)\n",
    "\n",
    "# Группировка данных по товару\n",
    "grouped_data = data.groupby('SKU')\n",
    "\n",
    "# Создание пустого DataFrame для хранения прогнозов\n",
    "all_forecasts = pd.DataFrame()\n",
    "\n",
    "# Прогнозирование продаж для каждого товара\n",
    "for sku, sku_data in grouped_data:\n",
    "    if sku_data['y'].notnull().sum() < 2:\n",
    "        continue  # Пропускаем прогноз для товаров с меньше чем 2 непропущенными значениями 'y'\n",
    "    # Создание и обучение модели Prophet для каждого товара с учетом параметров\n",
    "    model = Prophet(changepoint_prior_scale=0.5, seasonality_prior_scale=10)\n",
    "    model.fit(sku_data[['ds', 'y']])\n",
    "\n",
    "    # Создание DataFrame для прогноза на 60 дней вперед\n",
    "    future = model.make_future_dataframe(periods=60)\n",
    "    forecast = model.predict(future)\n",
    "    forecast['SKU'] = sku  # Добавление информации о товаре\n",
    "\n",
    "    # Добавление прогноза для текущего товара к общему DataFrame\n",
    "    all_forecasts = pd.concat([all_forecasts, forecast])\n",
    "\n",
    "# Сохранение результатов в новом Excel-файле\n",
    "selected_columns = ['ds', 'SKU', 'yhat', 'yhat_upper', 'yhat_lower']\n",
    "all_forecasts[selected_columns].to_excel('прогноз_продаж.xlsx', index=False)\n"
   ]
  },
  {
   "cell_type": "code",
   "execution_count": null,
   "id": "fcf9ec5f",
   "metadata": {},
   "outputs": [],
   "source": []
  }
 ],
 "metadata": {
  "kernelspec": {
   "display_name": "Python 3 (ipykernel)",
   "language": "python",
   "name": "python3"
  },
  "language_info": {
   "codemirror_mode": {
    "name": "ipython",
    "version": 3
   },
   "file_extension": ".py",
   "mimetype": "text/x-python",
   "name": "python",
   "nbconvert_exporter": "python",
   "pygments_lexer": "ipython3",
   "version": "3.11.5"
  }
 },
 "nbformat": 4,
 "nbformat_minor": 5
}
