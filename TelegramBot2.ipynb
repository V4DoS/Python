{
 "cells": [
  {
   "cell_type": "code",
   "execution_count": null,
   "id": "a634f75a-c54e-4036-925d-d05a6b108465",
   "metadata": {},
   "outputs": [],
   "source": [
    
   ]
  },
  {
   "cell_type": "markdown",
   "id": "c7b6b431",
   "metadata": {},
   "source": [
    "# TG OpenAI"
   ]
  },
  {
   "cell_type": "code",
   "execution_count": null,
   "id": "3138f8ae-b634-4c09-8043-2522c4057744",
   "metadata": {},
   "outputs": [],
   "source": [
    "import telebot                                 # Генерация Сообщений\n",
    "import time\n",
    "from g4f.client import Client\n",
    "\n",
    "# Инициализация клиентов\n",
    "bot = telebot.TeleBot(\"")  # Замените на ваш токен бота\n",
    "g4f_client = Client()\n",
    "\n",
    "@bot.message_handler(commands=['start'])\n",
    "def send_welcome(message):\n",
    "    bot.reply_to(message, \"Привет! Я бот с ИИ. Напиши мне что-нибудь, и я отвечу!\")\n",
    "\n",
    "@bot.message_handler(func=lambda message: True)\n",
    "def handle_message(message):\n",
    "    try:\n",
    "        # Отправляем статус \"печатает\"\n",
    "        bot.send_chat_action(message.chat.id, 'typing')\n",
    "        # Ждем немного для имитации набора текста\n",
    "        time.sleep(1)\n",
    "        \n",
    "        # Получаем ответ от g4f\n",
    "        response = g4f_client.chat.completions.create(\n",
    "            model=\"gpt-4.1\",\n",
    "            messages=[{\"role\": \"user\", \"content\": message.text}],\n",
    "            web_search=False\n",
    "        )\n",
    "        # Отправляем ответ пользователю\n",
    "        bot.reply_to(message, response.choices[0].message.content)\n",
    "    except Exception as e:\n",
    "        bot.reply_to(message, f\"Произошла ошибка: {str(e)}\")\n",
    "\n",
    "# Запуск бота\n",
    "if __name__ == \"__main__\":\n",
    "    bot.polling(none_stop=True)"
   ]
  },
  {
   "cell_type": "code",
   "execution_count": null,
   "id": "5c39e741-1055-4061-a6c6-69203404f131",
   "metadata": {},
   "outputs": [],
   "source": [
    "import telebot                       # Генерация Картинок\n",
    "import time\n",
    "from g4f.client import Client\n",
    "from googletrans import Translator\n",
    "\n",
    "# Инициализация клиентов\n",
    "bot = telebot.TeleBot(\"")  # Вставьте ваш реальный токен от @BotFather\n",
    "g4f_client = Client()\n",
    "translator = Translator()\n",
    "\n",
    "@bot.message_handler(commands=['start'])\n",
    "def send_welcome(message):\n",
    "    bot.reply_to(message, \"Привет! Я бот для генерации изображений. Напиши описание картинки на любом языке, и я создам её для тебя!\")\n",
    "\n",
    "@bot.message_handler(func=lambda message: True)\n",
    "def handle_message(message):\n",
    "    try:\n",
    "        # Отправляем статус \"печатает\"\n",
    "        bot.send_chat_action(message.chat.id, 'typing')\n",
    "        # Ждем немного для имитации обработки\n",
    "        time.sleep(1)\n",
    "\n",
    "        # Переводим запрос на английский\n",
    "        translated_prompt = translator.translate(message.text, dest='en').text\n",
    "\n",
    "        # Генерируем изображение через g4f\n",
    "        response = g4f_client.images.generate(\n",
    "            model=\"flux\",\n",
    "            prompt=translated_prompt,\n",
    "            response_format=\"url\"\n",
    "        )\n",
    "\n",
    "        # Получаем URL изображения\n",
    "        image_url = response.data[0].url\n",
    "\n",
    "        # Отправляем изображение пользователю\n",
    "        bot.send_photo(message.chat.id, image_url, caption=f\"Вот твоя картинка!\\n(Переведенный запрос: {translated_prompt})\")\n",
    "    except Exception as e:\n",
    "        bot.reply_to(message, f\"Произошла ошибка: {str(e)}\")\n",
    "\n",
    "# Запуск бота\n",
    "if __name__ == \"__main__\":\n",
    "    bot.polling(none_stop=True)"
   ]
  }
 ],
 "metadata": {
  "kernelspec": {
   "display_name": "Python 3 (ipykernel)",
   "language": "python",
   "name": "python3"
  },
  "language_info": {
   "codemirror_mode": {
    "name": "ipython",
    "version": 3
   },
   "file_extension": ".py",
   "mimetype": "text/x-python",
   "name": "python",
   "nbconvert_exporter": "python",
   "pygments_lexer": "ipython3",
   "version": "3.11.7"
  }
 },
 "nbformat": 4,
 "nbformat_minor": 5
}
