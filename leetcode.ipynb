{
 "cells": [
  {
   "cell_type": "markdown",
   "id": "f999b5e3",
   "metadata": {},
   "source": [
    "# АЛГОРИТМЫ,ЗАДАЧИ с сайта LeetCode & Проект Эйлера & Edabit\n"
   ]
  },
  {
   "cell_type": "code",
   "execution_count": null,
   "id": "5485bd56",
   "metadata": {},
   "outputs": [],
   "source": [
    "Rome = input(\"Введите Римское число: \")                                #Задача с Римскими цифрами(Конвертация в Арабские)\n",
    "m1 = {'I': 1, 'V': 5, 'X': 10, 'L': 50, 'C': 100, 'D': 500, 'M': 1000}\n",
    "arabic_numeral = 0\n",
    "prev_value = 0\n",
    "\n",
    "for i in reversed(Rome):\n",
    "    value = m1[i]\n",
    "    if value < prev_value:\n",
    "        arabic_numeral -= value\n",
    "    else:\n",
    "        arabic_numeral += value\n",
    "    prev_value = value\n",
    "print(f\"Арабское число: {arabic_numeral}\")"
   ]
  },
  {
   "cell_type": "code",
   "execution_count": null,
   "id": "46f3b3ac",
   "metadata": {},
   "outputs": [],
   "source": [
    "                                          # Жадный алгоритм для выбора минимального количества монет\n",
    "coins = [1, 5, 10, 25, 50]\n",
    "target= 44\n",
    "\n",
    "# Сортируем монеты в порядке убывания номиналов\n",
    "coins.sort(reverse=True)\n",
    "\n",
    "result = []  # Здесь будем хранить выбранные монеты\n",
    "total = 0  # Здесь будем подсчитывать сумму выбранных монет\n",
    "for i in coins:\n",
    "    while total + i <= target:\n",
    "        result.append(i)\n",
    "        total += i\n",
    "print(\"Минимальное количество монет:\", len(result))\n",
    "print(\"Выбранные монеты:\", result)"
   ]
  },
  {
   "cell_type": "code",
   "execution_count": 2,
   "id": "14318631",
   "metadata": {},
   "outputs": [
    {
     "name": "stdin",
     "output_type": "stream",
     "text": [
      "Введите число 3\n"
     ]
    },
    {
     "name": "stdout",
     "output_type": "stream",
     "text": [
      "Количество способов достичь суммы 3: 3\n",
      "Пути для достижения суммы 3: [[1, 1, 1], [2, 1], [1, 2]]\n"
     ]
    }
   ],
   "source": [
    "def count_ways_to_sum(n):                                                       #Динам.програм.Поиск суммы сумируя только 1 или 2\n",
    "    # Инициализация массива для хранения количества способов для каждой суммы\n",
    "    dp = [0] * (n + 1)\n",
    "    dp[0] = 1  # Только один способ - не добавлять ни одной цифры\n",
    "\n",
    "    # Обновление массива для каждой суммы\n",
    "    for i in range(1, n + 1):\n",
    "        if i >= 1:\n",
    "            dp[i] += dp[i - 1]\n",
    "        if i >= 2:\n",
    "            dp[i] += dp[i - 2]\n",
    "\n",
    "    return dp[n]\n",
    "\n",
    "def find_ways_to_sum(n):\n",
    "    # Инициализация массива для хранения путей для каждой суммы\n",
    "    ways = [[] for _ in range(n + 1)]\n",
    "    ways[0] = [[]]  # Начальный путь - пустой путь\n",
    "\n",
    "    # Поиск путей для каждой суммы\n",
    "    for i in range(1, n + 1):\n",
    "        if i >= 1:\n",
    "            for way in ways[i - 1]:\n",
    "                ways[i].append(way + [1])\n",
    "        if i >= 2:\n",
    "            for way in ways[i - 2]:\n",
    "                ways[i].append(way + [2])\n",
    "\n",
    "    return ways[n]\n",
    "\n",
    "# Пример использования\n",
    "target_sum = int(input(\"Введите число\"))\n",
    "print(\"Количество способов достичь суммы {}: {}\".format(target_sum, count_ways_to_sum(target_sum)))\n",
    "print(\"Пути для достижения суммы {}: {}\".format(target_sum, find_ways_to_sum(target_sum)))\n"
   ]
  },
  {
   "cell_type": "code",
   "execution_count": null,
   "id": "322ff8a8",
   "metadata": {},
   "outputs": [],
   "source": [
    "\"\"\"Найдите сумму всех чисел меньше 1000, кратных 3 или 5.\"\"\"\n",
    "\n",
    "suma=0\n",
    "for i in range(1,1000):\n",
    "    if i%3==0 or i%5==0:\n",
    "        suma+=i\n",
    "print(suma)\n"
   ]
  },
  {
   "cell_type": "code",
   "execution_count": null,
   "id": "9a33dba6",
   "metadata": {},
   "outputs": [],
   "source": [
    "\"\"\"Найдите сумму всех четных элементов ряда Фибоначчи, которые не превышают четыре миллиона.\"\"\"\n",
    "a, b = 0, 1\n",
    "maxi=50\n",
    "suma=0\n",
    "print(\"Последовательность Фибоначчи:\")\n",
    "for i in range(maxi):    \n",
    "    a, b = b, a + b\n",
    "    if a%2==0:\n",
    "        suma+=a\n",
    "        if suma>4000000:\n",
    "            break\n",
    "    print(i,a,suma)"
   ]
  },
  {
   "cell_type": "code",
   "execution_count": 11,
   "id": "0f87a66b",
   "metadata": {},
   "outputs": [
    {
     "name": "stdout",
     "output_type": "stream",
     "text": [
      "Самый большой простой делитель числа 600851475143: 6857\n"
     ]
    }
   ],
   "source": [
    "\"\"\"Каков самый большой делитель числа 600851475143, являющийся простым числом?\"\"\"\n",
    "# Заданное число\n",
    "number = 600851475143\n",
    "\n",
    "# Начинаем с наименьшего простого числа\n",
    "i = 2\n",
    "\n",
    "# Пока квадрат текущего числа не превышает number\n",
    "while i * i <= number:\n",
    "    # Если number делится на i, то i является делителем\n",
    "    if number % i == 0:\n",
    "        # Делим number на i и продолжаем проверку\n",
    "        number //= i\n",
    "    else:\n",
    "        # Если number не делится на i, увеличиваем i\n",
    "        i += 1\n",
    "\n",
    "# На этом этапе number содержит наибольший простой делитель\n",
    "maxi = number\n",
    "\n",
    "# Вывод результата\n",
    "print(\"Самый большой простой делитель числа 600851475143:\", maxi)\n"
   ]
  },
  {
   "cell_type": "code",
   "execution_count": null,
   "id": "b9851b36",
   "metadata": {},
   "outputs": [],
   "source": [
    "'''Найдите самый большой палиндром, полученный умножением двух трехзначных чисел.'''\n",
    "a=0\n",
    "for i in range(100, 1000):\n",
    "    for j in range(100, 1000):\n",
    "        proizv=i*j\n",
    "        if str(proizv)==str(proizv)[::-1] and proizv>a:\n",
    "            a=proizv\n",
    "print(a)"
   ]
  },
  {
   "cell_type": "code",
   "execution_count": null,
   "id": "fa54f902",
   "metadata": {},
   "outputs": [],
   "source": [
    "\"\"\"Найдите сумму цифр в числе 100!(факториал).\"\"\"\n",
    "\n",
    "n=int(input(\"Введи ебаное число для вычисления Факториала\"))\n",
    "factorial = 1\n",
    "for i in range(1,n+1):\n",
    "    factorial= factorial*i\n",
    "factorial_str=str(factorial) # преобразовываем в строку\n",
    "print(f\"факториал числа {n} :\",factorial_str)\n",
    "suma = sum(int(j) for j in factorial_str)  # проходимся по строке\n",
    "print(f\"Сумма цифр в факториале числа {n}:\", suma)"
   ]
  },
  {
   "cell_type": "code",
   "execution_count": null,
   "id": "eee12a79",
   "metadata": {},
   "outputs": [],
   "source": [
    "def stutter(word):                    # ➞ \"in... in... incredible?\"\n",
    "    # Создаем строку с повторением слова и добавляем троеточие между ними\n",
    "    result = word[:2] + '... ' + word[:2] + '... ' + word + '?'\n",
    "    return result\n",
    "\n",
    "# Примеры использования функции\n",
    "print(stutter(\"incredible\"))    # ➞ \"in... in... incredible?\"\n",
    "print(stutter(\"enthusiastic\"))  # ➞ \"en... en... enthusiastic?\"\n",
    "print(stutter(\"outstanding\"))   # ➞ \"ou... ou... outstanding?\""
   ]
  },
  {
   "cell_type": "code",
   "execution_count": null,
   "id": "e3161824",
   "metadata": {},
   "outputs": [],
   "source": [
    "a = [1, 2, 4, 5, 3, 6, 8, 9, 10]   #найти пропущенное число\n",
    "a=sorted(a)\n",
    "for i in range(len(a) - 1):\n",
    "    if a[i] + 1 != a[i + 1]:\n",
    "        missing_number = a[i] + 1\n",
    "        print(f\"Пропущенное число: {missing_number}\")\n",
    "        break"
   ]
  },
  {
   "cell_type": "code",
   "execution_count": null,
   "id": "b2e7ad09",
   "metadata": {},
   "outputs": [],
   "source": [
    "def square_digits(num):      #Возведение в степень каждой цифры из числа\n",
    "    # Преобразуем число в строку, чтобы можно было пройтись по его цифрам\n",
    "    num_str = str(num)\n",
    "    # Создаем пустую строку для хранения квадратов цифр\n",
    "    result_str = \"\"\n",
    "    # Проходим по каждой цифре в числе\n",
    "    for digit in num_str:\n",
    "        # Возводим цифру в квадрат и добавляем к результату\n",
    "        result_str += str(int(digit) ** 2)\n",
    "    # Преобразуем строку обратно в число и возвращаем\n",
    "    return int(result_str)\n",
    "square_digits(25)"
   ]
  },
  {
   "cell_type": "code",
   "execution_count": 10,
   "id": "82f63f67",
   "metadata": {},
   "outputs": [
    {
     "name": "stdout",
     "output_type": "stream",
     "text": [
      "docadogocaraca\n"
     ]
    }
   ],
   "source": [
    "my_lisp=['dog', 'cat', 'dog', 'goldfish', 'cat', 'rabbit', 'cat'] #Выводим первые 2 буквы из каждого слова в ону строку\n",
    "a=''.join(i[0:2] for i in my_lisp)\n",
    "print(a)   "
   ]
  },
  {
   "cell_type": "markdown",
   "id": "b33b90d0",
   "metadata": {},
   "source": [
    "# PANDAS(Leetcode)"
   ]
  },
  {
   "cell_type": "code",
   "execution_count": null,
   "id": "b5d369a8",
   "metadata": {},
   "outputs": [],
   "source": [
    "import pandas as pd        # Создание 2х таблиц и объединение их по уникальному признаку\n",
    "\n",
    "data = {'personid': [1, 2],\n",
    "        'firstname': ['Jack', 'Allen'],\n",
    "        'lastname': ['Bobes', 'Marisis']}\n",
    "df = pd.DataFrame(data)\n",
    "\n",
    "data1 = {'addressid': [1, 2],\n",
    "         'personid': [2, 3],\n",
    "         'City': ['NY', 'LA'],\n",
    "         'State': ['NewYork', 'California']}\n",
    "df1 = pd.DataFrame(data1)\n",
    "\n",
    "df2 = pd.merge(left=df, right=df1, how='left', on='personid')[['firstname', 'lastname', 'City', 'State']]\n",
    "\n",
    "print(df2)\n",
    "\n",
    "#df = pd.DataFrame([[1, \"A\"], [2, \"B\"], [3, \"C\"]], columns = [\"col1\", \"col2\"])    Создание DF"
   ]
  },
  {
   "cell_type": "code",
   "execution_count": null,
   "id": "07f4ad14",
   "metadata": {},
   "outputs": [],
   "source": [
    "import pandas as pd                               #Создание дата фреймов и объединение их\n",
    "df=pd.DataFrame({'one':pd.Series([1,2,3],index=['a','b','c']),\n",
    "                 'two':pd.Series([1,2,3,4],index=['a','b','c','d'])})\n",
    "df2=pd.DataFrame({'one':{'e':0,'f':1},'three':{'e':2}})\n",
    "pd.concat([df,df2], axis=0)"
   ]
  }
 ],
 "metadata": {
  "kernelspec": {
   "display_name": "Python 3 (ipykernel)",
   "language": "python",
   "name": "python3"
  },
  "language_info": {
   "codemirror_mode": {
    "name": "ipython",
    "version": 3
   },
   "file_extension": ".py",
   "mimetype": "text/x-python",
   "name": "python",
   "nbconvert_exporter": "python",
   "pygments_lexer": "ipython3",
   "version": "3.11.7"
  }
 },
 "nbformat": 4,
 "nbformat_minor": 5
}
