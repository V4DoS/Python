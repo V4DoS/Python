{
 "cells": [
  {
   "cell_type": "markdown",
   "id": "f999b5e3",
   "metadata": {},
   "source": [
    "# АЛГОРИТМЫ,ЗАДАЧИ с сайта LeetCode\n"
   ]
  },
  {
   "cell_type": "code",
   "execution_count": null,
   "id": "5485bd56",
   "metadata": {},
   "outputs": [],
   "source": [
    "Rome = input(\"Введите Римское число: \")                                #Задача с Римскими цифрами(Конвертация в Арабские)\n",
    "m1 = {'I': 1, 'V': 5, 'X': 10, 'L': 50, 'C': 100, 'D': 500, 'M': 1000}\n",
    "arabic_numeral = 0\n",
    "prev_value = 0\n",
    "\n",
    "for i in reversed(Rome):\n",
    "    value = m1[i]\n",
    "    if value < prev_value:\n",
    "        arabic_numeral -= value\n",
    "    else:\n",
    "        arabic_numeral += value\n",
    "    prev_value = value\n",
    "print(f\"Арабское число: {arabic_numeral}\")"
   ]
  },
  {
   "cell_type": "code",
   "execution_count": null,
   "id": "46f3b3ac",
   "metadata": {},
   "outputs": [],
   "source": [
    "                                          # Жадный алгоритм для выбора минимального количества монет\n",
    "coins = [1, 5, 10, 25, 50]\n",
    "target= 44\n",
    "\n",
    "# Сортируем монеты в порядке убывания номиналов\n",
    "coins.sort(reverse=True)\n",
    "\n",
    "result = []  # Здесь будем хранить выбранные монеты\n",
    "total = 0  # Здесь будем подсчитывать сумму выбранных монет\n",
    "for i in coins:\n",
    "    while total + i <= target:\n",
    "        result.append(i)\n",
    "        total += i\n",
    "print(\"Минимальное количество монет:\", len(result))\n",
    "print(\"Выбранные монеты:\", result)"
   ]
  },
  {
   "cell_type": "code",
   "execution_count": 21,
   "id": "14318631",
   "metadata": {},
   "outputs": [
    {
     "name": "stdout",
     "output_type": "stream",
     "text": [
      "Введите число10\n",
      "Количество способов достичь суммы 10: 89\n",
      "Пути для достижения суммы 10: [[1, 1, 1, 1, 1, 1, 1, 1, 1, 1], [2, 1, 1, 1, 1, 1, 1, 1, 1], [1, 2, 1, 1, 1, 1, 1, 1, 1], [1, 1, 2, 1, 1, 1, 1, 1, 1], [2, 2, 1, 1, 1, 1, 1, 1], [1, 1, 1, 2, 1, 1, 1, 1, 1], [2, 1, 2, 1, 1, 1, 1, 1], [1, 2, 2, 1, 1, 1, 1, 1], [1, 1, 1, 1, 2, 1, 1, 1, 1], [2, 1, 1, 2, 1, 1, 1, 1], [1, 2, 1, 2, 1, 1, 1, 1], [1, 1, 2, 2, 1, 1, 1, 1], [2, 2, 2, 1, 1, 1, 1], [1, 1, 1, 1, 1, 2, 1, 1, 1], [2, 1, 1, 1, 2, 1, 1, 1], [1, 2, 1, 1, 2, 1, 1, 1], [1, 1, 2, 1, 2, 1, 1, 1], [2, 2, 1, 2, 1, 1, 1], [1, 1, 1, 2, 2, 1, 1, 1], [2, 1, 2, 2, 1, 1, 1], [1, 2, 2, 2, 1, 1, 1], [1, 1, 1, 1, 1, 1, 2, 1, 1], [2, 1, 1, 1, 1, 2, 1, 1], [1, 2, 1, 1, 1, 2, 1, 1], [1, 1, 2, 1, 1, 2, 1, 1], [2, 2, 1, 1, 2, 1, 1], [1, 1, 1, 2, 1, 2, 1, 1], [2, 1, 2, 1, 2, 1, 1], [1, 2, 2, 1, 2, 1, 1], [1, 1, 1, 1, 2, 2, 1, 1], [2, 1, 1, 2, 2, 1, 1], [1, 2, 1, 2, 2, 1, 1], [1, 1, 2, 2, 2, 1, 1], [2, 2, 2, 2, 1, 1], [1, 1, 1, 1, 1, 1, 1, 2, 1], [2, 1, 1, 1, 1, 1, 2, 1], [1, 2, 1, 1, 1, 1, 2, 1], [1, 1, 2, 1, 1, 1, 2, 1], [2, 2, 1, 1, 1, 2, 1], [1, 1, 1, 2, 1, 1, 2, 1], [2, 1, 2, 1, 1, 2, 1], [1, 2, 2, 1, 1, 2, 1], [1, 1, 1, 1, 2, 1, 2, 1], [2, 1, 1, 2, 1, 2, 1], [1, 2, 1, 2, 1, 2, 1], [1, 1, 2, 2, 1, 2, 1], [2, 2, 2, 1, 2, 1], [1, 1, 1, 1, 1, 2, 2, 1], [2, 1, 1, 1, 2, 2, 1], [1, 2, 1, 1, 2, 2, 1], [1, 1, 2, 1, 2, 2, 1], [2, 2, 1, 2, 2, 1], [1, 1, 1, 2, 2, 2, 1], [2, 1, 2, 2, 2, 1], [1, 2, 2, 2, 2, 1], [1, 1, 1, 1, 1, 1, 1, 1, 2], [2, 1, 1, 1, 1, 1, 1, 2], [1, 2, 1, 1, 1, 1, 1, 2], [1, 1, 2, 1, 1, 1, 1, 2], [2, 2, 1, 1, 1, 1, 2], [1, 1, 1, 2, 1, 1, 1, 2], [2, 1, 2, 1, 1, 1, 2], [1, 2, 2, 1, 1, 1, 2], [1, 1, 1, 1, 2, 1, 1, 2], [2, 1, 1, 2, 1, 1, 2], [1, 2, 1, 2, 1, 1, 2], [1, 1, 2, 2, 1, 1, 2], [2, 2, 2, 1, 1, 2], [1, 1, 1, 1, 1, 2, 1, 2], [2, 1, 1, 1, 2, 1, 2], [1, 2, 1, 1, 2, 1, 2], [1, 1, 2, 1, 2, 1, 2], [2, 2, 1, 2, 1, 2], [1, 1, 1, 2, 2, 1, 2], [2, 1, 2, 2, 1, 2], [1, 2, 2, 2, 1, 2], [1, 1, 1, 1, 1, 1, 2, 2], [2, 1, 1, 1, 1, 2, 2], [1, 2, 1, 1, 1, 2, 2], [1, 1, 2, 1, 1, 2, 2], [2, 2, 1, 1, 2, 2], [1, 1, 1, 2, 1, 2, 2], [2, 1, 2, 1, 2, 2], [1, 2, 2, 1, 2, 2], [1, 1, 1, 1, 2, 2, 2], [2, 1, 1, 2, 2, 2], [1, 2, 1, 2, 2, 2], [1, 1, 2, 2, 2, 2], [2, 2, 2, 2, 2]]\n"
     ]
    }
   ],
   "source": [
    "def count_ways_to_sum(n):                                                       #Динам.програм.Поиск суммы сумируя только 1 или 2\n",
    "    # Инициализация массива для хранения количества способов для каждой суммы\n",
    "    dp = [0] * (n + 1)\n",
    "    dp[0] = 1  # Только один способ - не добавлять ни одной цифры\n",
    "\n",
    "    # Обновление массива для каждой суммы\n",
    "    for i in range(1, n + 1):\n",
    "        if i >= 1:\n",
    "            dp[i] += dp[i - 1]\n",
    "        if i >= 2:\n",
    "            dp[i] += dp[i - 2]\n",
    "\n",
    "    return dp[n]\n",
    "\n",
    "def find_ways_to_sum(n):\n",
    "    # Инициализация массива для хранения путей для каждой суммы\n",
    "    ways = [[] for _ in range(n + 1)]\n",
    "    ways[0] = [[]]  # Начальный путь - пустой путь\n",
    "\n",
    "    # Поиск путей для каждой суммы\n",
    "    for i in range(1, n + 1):\n",
    "        if i >= 1:\n",
    "            for way in ways[i - 1]:\n",
    "                ways[i].append(way + [1])\n",
    "        if i >= 2:\n",
    "            for way in ways[i - 2]:\n",
    "                ways[i].append(way + [2])\n",
    "\n",
    "    return ways[n]\n",
    "\n",
    "# Пример использования\n",
    "target_sum = int(input(\"Введите число\"))\n",
    "print(\"Количество способов достичь суммы {}: {}\".format(target_sum, count_ways_to_sum(target_sum)))\n",
    "print(\"Пути для достижения суммы {}: {}\".format(target_sum, find_ways_to_sum(target_sum)))\n"
   ]
  },
  {
   "cell_type": "markdown",
   "id": "b33b90d0",
   "metadata": {},
   "source": [
    "# PANDAS(Leetcode)"
   ]
  },
  {
   "cell_type": "code",
   "execution_count": null,
   "id": "b5d369a8",
   "metadata": {},
   "outputs": [],
   "source": [
    "import pandas as pd        # Создание 2х таблиц и объединение их по уникальному признаку\n",
    "\n",
    "data = {'personid': [1, 2],\n",
    "        'firstname': ['Jack', 'Allen'],\n",
    "        'lastname': ['Bobes', 'Marisis']}\n",
    "df = pd.DataFrame(data)\n",
    "\n",
    "data1 = {'addressid': [1, 2],\n",
    "         'personid': [2, 3],\n",
    "         'City': ['NY', 'LA'],\n",
    "         'State': ['NewYork', 'California']}\n",
    "df1 = pd.DataFrame(data1)\n",
    "\n",
    "df2 = pd.merge(left=df, right=df1, how='left', on='personid')[['firstname', 'lastname', 'City', 'State']]\n",
    "\n",
    "print(df2)\n",
    "\n",
    "#df = pd.DataFrame([[1, \"A\"], [2, \"B\"], [3, \"C\"]], columns = [\"col1\", \"col2\"])    Создание DF"
   ]
  },
  {
   "cell_type": "code",
   "execution_count": null,
   "id": "07f4ad14",
   "metadata": {},
   "outputs": [],
   "source": [
    "import pandas as pd                               #Создание дата фреймов и объединение их\n",
    "df=pd.DataFrame({'one':pd.Series([1,2,3],index=['a','b','c']),\n",
    "                 'two':pd.Series([1,2,3,4],index=['a','b','c','d'])})\n",
    "df2=pd.DataFrame({'one':{'e':0,'f':1},'three':{'e':2}})\n",
    "pd.concat([df,df2], axis=0)"
   ]
  },
  {
   "cell_type": "code",
   "execution_count": null,
   "id": "67d35f88",
   "metadata": {},
   "outputs": [],
   "source": []
  }
 ],
 "metadata": {
  "kernelspec": {
   "display_name": "Python 3 (ipykernel)",
   "language": "python",
   "name": "python3"
  },
  "language_info": {
   "codemirror_mode": {
    "name": "ipython",
    "version": 3
   },
   "file_extension": ".py",
   "mimetype": "text/x-python",
   "name": "python",
   "nbconvert_exporter": "python",
   "pygments_lexer": "ipython3",
   "version": "3.11.5"
  }
 },
 "nbformat": 4,
 "nbformat_minor": 5
}
