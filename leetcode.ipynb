{
 "cells": [
  {
   "cell_type": "markdown",
   "id": "f999b5e3",
   "metadata": {},
   "source": [
    "# АЛГОРИТМЫ,ЗАДАЧИ с сайта LeetCode\n"
   ]
  },
  {
   "cell_type": "code",
   "execution_count": null,
   "id": "5485bd56",
   "metadata": {},
   "outputs": [],
   "source": [
    "Rome = input(\"Введите Римское число: \")                                #Задача с Римскими цифрами(Конвертация в Арабские)\n",
    "m1 = {'I': 1, 'V': 5, 'X': 10, 'L': 50, 'C': 100, 'D': 500, 'M': 1000}\n",
    "arabic_numeral = 0\n",
    "prev_value = 0\n",
    "\n",
    "for i in reversed(Rome):\n",
    "    value = m1[i]\n",
    "    if value < prev_value:\n",
    "        arabic_numeral -= value\n",
    "    else:\n",
    "        arabic_numeral += value\n",
    "    prev_value = value\n",
    "print(f\"Арабское число: {arabic_numeral}\")"
   ]
  },
  {
   "cell_type": "code",
   "execution_count": null,
   "id": "46f3b3ac",
   "metadata": {},
   "outputs": [],
   "source": [
    "                                          # Жадный алгоритм для выбора минимального количества монет\n",
    "coins = [1, 5, 10, 25, 50]\n",
    "target= 44\n",
    "\n",
    "# Сортируем монеты в порядке убывания номиналов\n",
    "coins.sort(reverse=True)\n",
    "\n",
    "result = []  # Здесь будем хранить выбранные монеты\n",
    "total = 0  # Здесь будем подсчитывать сумму выбранных монет\n",
    "for i in coins:\n",
    "    while total + i <= target:\n",
    "        result.append(i)\n",
    "        total += i\n",
    "print(\"Минимальное количество монет:\", len(result))\n",
    "print(\"Выбранные монеты:\", result)"
   ]
  },
  {
   "cell_type": "markdown",
   "id": "b33b90d0",
   "metadata": {},
   "source": [
    "# PANDAS(Leetcode)"
   ]
  },
  {
   "cell_type": "code",
   "execution_count": null,
   "id": "b5d369a8",
   "metadata": {},
   "outputs": [],
   "source": [
    "import pandas as pd        # Создание 2х таблиц и объединение их по уникальному признаку\n",
    "\n",
    "data = {'personid': [1, 2],\n",
    "        'firstname': ['Jack', 'Allen'],\n",
    "        'lastname': ['Bobes', 'Marisis']}\n",
    "df = pd.DataFrame(data)\n",
    "\n",
    "data1 = {'addressid': [1, 2],\n",
    "         'personid': [2, 3],\n",
    "         'City': ['NY', 'LA'],\n",
    "         'State': ['NewYork', 'California']}\n",
    "df1 = pd.DataFrame(data1)\n",
    "\n",
    "df2 = pd.merge(left=df, right=df1, how='left', on='personid')[['firstname', 'lastname', 'City', 'State']]\n",
    "\n",
    "print(df2)\n",
    "\n"
   ]
  },
  {
   "cell_type": "code",
   "execution_count": 7,
   "id": "07f4ad14",
   "metadata": {},
   "outputs": [
    {
     "name": "stdout",
     "output_type": "stream",
     "text": [
      "введи Количество дней10\n"
     ]
    }
   ],
   "source": []
  }
 ],
 "metadata": {
  "kernelspec": {
   "display_name": "Python 3 (ipykernel)",
   "language": "python",
   "name": "python3"
  },
  "language_info": {
   "codemirror_mode": {
    "name": "ipython",
    "version": 3
   },
   "file_extension": ".py",
   "mimetype": "text/x-python",
   "name": "python",
   "nbconvert_exporter": "python",
   "pygments_lexer": "ipython3",
   "version": "3.11.5"
  }
 },
 "nbformat": 4,
 "nbformat_minor": 5
}
