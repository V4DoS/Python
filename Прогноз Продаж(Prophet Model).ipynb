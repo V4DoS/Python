{
 "cells": [
  {
   "cell_type": "code",
   "execution_count": null,
   "id": "39dbee55",
   "metadata": {},
   "outputs": [],
   "source": [
    "                                    #Прогнозирование Prophet\n",
    "import pandas as pd\n",
    "from prophet import Prophet\n",
    "\n",
    "# Загрузка исторических данных о продажах из Excel/CSV-файла\n",
    "data = pd.read_csv('C:/Users/bondarenKovv/Desktop/Python/Sales.csv',sep=';',low_memory=False)\n",
    "\n",
    "# Преобразование формата даты\n",
    "data['Дата'] = pd.to_datetime(data['Дата'], dayfirst=True)\n",
    "data = data[(data['Дата'] >= '2021-01-01')]\n",
    "\n",
    "# Подготовка данных для применения модели Prophet\n",
    "data = data.rename(columns={'Дата': 'ds', 'Номер Магазина': 'store', '(Сутки).(Сумма продаж в фактических ценах реализации(валюта))': 'y'})\n",
    "# Подготовка данных для применения модели Prophet(Продажи, замена , на .)\n",
    "data['y'] = data['y'].str.replace(',' , '.').astype(float)\n",
    "# Создание пустого DataFrame для хранения прогнозов\n",
    "all_forecasts = pd.DataFrame()\n",
    "\n",
    "# Группировка данных по магазинам и применение модели Prophet для каждого магазина\n",
    "for store in data['store'].unique():\n",
    "    store_data = data[data['store'] == store]\n",
    "    \n",
    "    # Создание и обучение модели Prophet для каждого магазина\n",
    "    model = Prophet()\n",
    "    model.fit(store_data[['ds','y'] + ['store']])\n",
    "\n",
    "    # Создание DataFrame для прогноза на N дней вперед\n",
    "    future = model.make_future_dataframe(periods=40)\n",
    "    forecast = model.predict(future)\n",
    "    forecast['store'] = store  # Добавляем информацию о магазине\n",
    "    \n",
    "    # Добавление прогноза для текущего магазина к общему DataFrame\n",
    "    all_forecasts = pd.concat([all_forecasts, forecast])\n",
    "\n",
    "# Сохранение результатов в новом Excel-файле\n",
    "all_forecasts.to_excel('forecast_next_month.xlsx', index=False)"
   ]
  }
 ],
 "metadata": {
  "kernelspec": {
   "display_name": "Python 3 (ipykernel)",
   "language": "python",
   "name": "python3"
  },
  "language_info": {
   "codemirror_mode": {
    "name": "ipython",
    "version": 3
   },
   "file_extension": ".py",
   "mimetype": "text/x-python",
   "name": "python",
   "nbconvert_exporter": "python",
   "pygments_lexer": "ipython3",
   "version": "3.11.5"
  }
 },
 "nbformat": 4,
 "nbformat_minor": 5
}
