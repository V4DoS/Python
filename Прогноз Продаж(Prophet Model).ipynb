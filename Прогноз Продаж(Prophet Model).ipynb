{
 "cells": [
  {
   "cell_type": "markdown",
   "id": "6602198e",
   "metadata": {},
   "source": [
    "#  PROPHET"
   ]
  },
  {
   "cell_type": "code",
   "execution_count": null,
   "id": "e9209819",
   "metadata": {},
   "outputs": [],
   "source": [
    "%%time\n",
    "import pandas as pd\n",
    "from prophet import Prophet\n",
    "\n",
    "# Загрузка исторических данных о продажах из Excel/CSV-файла\n",
    "data = pd.read_csv('C:/Users/bondarenKovv/Desktop/Python/Sales.csv',sep=';',low_memory=False)\n",
    "\n",
    "# Преобразование формата даты\n",
    "data['Дата'] = pd.to_datetime(data['Дата'], dayfirst=True)\n",
    "data = data[(data['Дата'] >= '2021-01-01')]\n",
    "\n",
    "# Подготовка данных для применения модели Prophet\n",
    "data = data.rename(columns={'Дата': 'ds', 'Номер Магазина': 'store', '(Сутки).(Сумма продаж в фактических ценах реализации(валюта))': 'y'})\n",
    "data['y'] = data['y'].str.replace(',' , '.').astype(float)\n",
    "data.loc[data['ds'] >= '2023-01-01', 'weights'] = 2.0 # Настройка веса\n",
    "\n",
    "# Создание пустого DataFrame для хранения прогнозов\n",
    "all_forecasts = pd.DataFrame()\n",
    "\n",
    "# Словарь с параметрами модели для каждого магазина, включая значение по умолчанию\n",
    "model_params = {'default': {'changepoint_prior_scale': 0.15, 'seasonality_prior_scale': 30},\n",
    "                141: {'seasonality_prior_scale': 100},\n",
    "                142: {'seasonality_prior_scale': 100},\n",
    "                121: {'seasonality_prior_scale': 50}}  # Указываем параметр seasonality_prior_scale для магазина 141,121,142\n",
    "\n",
    "# Группировка данных по магазинам и применение модели Prophet для каждого магазина\n",
    "for store in data['store'].unique():\n",
    "    store_data = data[data['store'] == store]\n",
    "    \n",
    "    if store in model_params:\n",
    "        params = model_params[store]\n",
    "    else:\n",
    "        params = model_params['default']\n",
    "\n",
    "    # Создание и обучение модели Prophet для каждого магазина с уточненными параметрами\n",
    "    model = Prophet(**params)  # Используем параметры из словаря\n",
    "    model.add_country_holidays(country_name='RU')  \n",
    "    model.fit(store_data[['ds','y'] + ['store']])\n",
    "\n",
    "    # Создание DataFrame для прогноза на N дней вперед\n",
    "    future = model.make_future_dataframe(periods=41)\n",
    "    forecast = model.predict(future)\n",
    "    forecast['store'] = store  # Добавляем информацию о магазине\n",
    "    \n",
    "    # Добавление прогноза для текущего магазина к общему DataFrame\n",
    "    all_forecasts = pd.concat([all_forecasts, forecast])\n",
    "\n",
    "# Сохранение результатов в новом Excel-файле\n",
    "#all_forecasts.to_excel('forecast_next_month.xlsx', index=False)\n",
    "\n",
    "selected_columns = ['ds', 'store', 'yhat','yhat_upper']\n",
    "all_forecasts[selected_columns].to_excel('forecast_next_month.xlsx', index=False)\n",
    "\n",
    "'''1. changepoint_prior_scale: Этот параметр отвечает за гибкость модели в определении точек \n",
    "изменения тренда. Чем меньше значение, тем более гибкой будет модель, воспринимая меньшие изменения \n",
    "как точки изменения тренда. Установка этого параметра на низкий уровень позволяет модели более гибко \n",
    "реагировать на изменения в данных и следовать им более близко.\n",
    "2. seasonality_prior_scale: Этот параметр контролирует насколько модель склонна к изучению и предсказыванию \n",
    "сезонных изменений. Если установить этот параметр на более высокое значение, то модель будет более склонна \n",
    "видеть и учитывать сезонные особенности в данных.'''"
   ]
  },
  {
   "cell_type": "code",
   "execution_count": null,
   "id": "9c122f99",
   "metadata": {},
   "outputs": [],
   "source": []
  }
 ],
 "metadata": {
  "kernelspec": {
   "display_name": "Python 3 (ipykernel)",
   "language": "python",
   "name": "python3"
  },
  "language_info": {
   "codemirror_mode": {
    "name": "ipython",
    "version": 3
   },
   "file_extension": ".py",
   "mimetype": "text/x-python",
   "name": "python",
   "nbconvert_exporter": "python",
   "pygments_lexer": "ipython3",
   "version": "3.11.5"
  }
 },
 "nbformat": 4,
 "nbformat_minor": 5
}
