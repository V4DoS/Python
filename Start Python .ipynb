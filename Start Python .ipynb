{
 "cells": [
  {
   "cell_type": "markdown",
   "id": "18d4fa6b",
   "metadata": {},
   "source": [
    "# СТРУКТЫРЫ ДАННЫХ."
   ]
  },
  {
   "cell_type": "code",
   "execution_count": null,
   "id": "71e9b605",
   "metadata": {},
   "outputs": [],
   "source": [
    "x=['Привет','Вадим','Викторович']\n",
    "x.insert(0,'Большой')\n",
    "x.insert(2,'Бондаренко')\n",
    "x.append('Тебе')\n",
    "\n",
    "print(x)"
   ]
  },
  {
   "cell_type": "code",
   "execution_count": null,
   "id": "36a132ba",
   "metadata": {},
   "outputs": [],
   "source": [
    "x.remove('Тебе')\n",
    "print(x)"
   ]
  },
  {
   "cell_type": "code",
   "execution_count": null,
   "id": "2c2a0122",
   "metadata": {
    "scrolled": false
   },
   "outputs": [],
   "source": [
    "#a=range(1,100,2)                       Рандом\n",
    "#a=list(a)\n",
    "#print(len(a))\n",
    "#print(a)\n",
    "\n",
    "import random\n",
    "def main(): \n",
    "    for count in range(10): \n",
    "        nomber=random.randint(1,100)\n",
    "        print(nomber, end='|') \n",
    "main()   "
   ]
  },
  {
   "cell_type": "code",
   "execution_count": null,
   "id": "6db8c160",
   "metadata": {},
   "outputs": [],
   "source": [
    "for num in range(1,10,2):           #циклы.Четные числа    \n",
    "    print(num+1)"
   ]
  },
  {
   "cell_type": "code",
   "execution_count": null,
   "id": "460b9c11",
   "metadata": {},
   "outputs": [],
   "source": [
    "counter=0            #Счетчик\n",
    "for i in range(10):\n",
    "    if i>=5:\n",
    "        counter+=1\n",
    "    print(counter)"
   ]
  },
  {
   "cell_type": "code",
   "execution_count": null,
   "id": "2f8f6d1f",
   "metadata": {},
   "outputs": [],
   "source": [
    "s=\"Дата поставки товара : 20-10-2023\"\n",
    "new_s=''\n",
    "for i in s:\n",
    "    if i.isdigit()==True: #True - убираем буквы , иначе убираем цифры\n",
    "        new_s+=i\n",
    "    else:\n",
    "        pass\n",
    "print(new_s)"
   ]
  },
  {
   "cell_type": "code",
   "execution_count": null,
   "id": "3223e792",
   "metadata": {},
   "outputs": [],
   "source": [
    "import pandas as pd\n",
    "pd.to_datetime(new_s, format=\"%d%m%Y\")"
   ]
  },
  {
   "cell_type": "code",
   "execution_count": null,
   "id": "4a652981",
   "metadata": {},
   "outputs": [],
   "source": [
    "n=[1, 2, 2, 3, 4, 4, 5]             #Вывод уникальных значений в списке\n",
    "m=list(set(n))\n",
    "print(m)"
   ]
  },
  {
   "cell_type": "code",
   "execution_count": null,
   "id": "ba0b266a",
   "metadata": {},
   "outputs": [],
   "source": [
    "\n",
    "name = input ( 'Как Вас зовут? ')                #ввод значений\n",
    "age = int(input('Cкo льк o Вам лет? '))\n",
    "income = float(input('Kaкoй у Вас доход? '))\n",
    "print ( 'Вот данные, которые Вы ввели: ' )\n",
    "print ('Имя:', name)\n",
    "print ('Boзpacт:', age)\n",
    "print ('Доход: ', income)"
   ]
  },
  {
   "cell_type": "code",
   "execution_count": null,
   "id": "aa32087f",
   "metadata": {},
   "outputs": [],
   "source": [
    "#Создайте список из 10 имен (с разными длинами очевидно) отсортируйте по возрастанию длины имени.\n",
    "name=['Вадим','Инна', 'Влад', 'Виктор', 'Валентина' ,'Андрюша', 'Юля' ,'Таня' ,'Кирил' ,'Сима']\n",
    "sorted(name, key=lambda x: len(x)) #reverse=True по убыванию"
   ]
  },
  {
   "cell_type": "code",
   "execution_count": null,
   "id": "37251e63",
   "metadata": {},
   "outputs": [],
   "source": [
    "s=[5,9,13,19,11,21,17,8,2]              #Возведение каждого элемента списка в квадрат\n",
    "s1=[x**2 for x in s]              #Генератор списка\n",
    "print(s1)"
   ]
  },
  {
   "cell_type": "code",
   "execution_count": null,
   "id": "4f93ec51",
   "metadata": {},
   "outputs": [],
   "source": [
    "[x if x in 'aeiou' else '*' for x in 'apple'] #Пересечение ,поиск одинаковых символов\n",
    "#a = [i for i in range (int(input ()))]       Создание массива из введенного кол-ва элементов"
   ]
  },
  {
   "cell_type": "code",
   "execution_count": null,
   "id": "807cbc23",
   "metadata": {},
   "outputs": [],
   "source": [
    "s1 = set(range(0, 10))   #Поиск и исключение пересечений\n",
    "s2 = set(range(5, 15))"
   ]
  },
  {
   "cell_type": "code",
   "execution_count": null,
   "id": "b3706bc6",
   "metadata": {
    "scrolled": true
   },
   "outputs": [],
   "source": [
    "print(s1.difference(s2))\n",
    "print()\n",
    "print(s2.difference(s1))"
   ]
  },
  {
   "cell_type": "code",
   "execution_count": null,
   "id": "041714e0",
   "metadata": {},
   "outputs": [],
   "source": [
    "s1.intersection(s2)     #Пересечения"
   ]
  },
  {
   "cell_type": "markdown",
   "id": "43c20996",
   "metadata": {},
   "source": [
    "# АЛГОРИТМЫ.ЗАДАЧИ."
   ]
  },
  {
   "cell_type": "code",
   "execution_count": null,
   "id": "7cc8f18d",
   "metadata": {},
   "outputs": [],
   "source": [
    "my_list=[1,2,3,4,5]               #Сортировка в обратном порядке\n",
    "print(my_list[::-1])\n",
    "\"\"\"a=[1,2,3,4,5,6,7,8,9]                #Сортировка\n",
    "a=sorted(a,reverse=True)\n",
    "print(a)\"\"\""
   ]
  },
  {
   "cell_type": "code",
   "execution_count": null,
   "id": "e49c9ec7",
   "metadata": {},
   "outputs": [],
   "source": [
    "word = input(\"Введите слово для проверки: \")             #Проверка на полиндром\n",
    "if word[::-1]==word:\n",
    "    print(f\"Слово ***{word}*** является полиндромом\")\n",
    "else:\n",
    "    print(f\"Слово ***{word}*** не является полиндромом\")"
   ]
  },
  {
   "cell_type": "code",
   "execution_count": null,
   "id": "879a9b0d",
   "metadata": {},
   "outputs": [],
   "source": [
    "n=int(input(\"Введите целое число: \"))        #Дилители числа(FizzBuzz)\n",
    "for i in range(1,n+1):\n",
    "    if i%3==0 and i%5==0:\n",
    "        print(\"Делится на 15 FizzBuzz\")\n",
    "    elif i%3==0:\n",
    "        print(\"Делится на 3 Fizz\")\n",
    "    elif i%5==0:\n",
    "        print(\"Делится на 5 Buzz\")\n",
    "    else:\n",
    "        print(i)"
   ]
  },
  {
   "cell_type": "code",
   "execution_count": null,
   "id": "fad861d6",
   "metadata": {},
   "outputs": [],
   "source": [
    "n=0                                    #Сумма всех чилел в списке\n",
    "m=[1, 2, 3, 4, 5,200,250,350]\n",
    "for i in m:\n",
    "    n=i+n\n",
    "print(n)"
   ]
  },
  {
   "cell_type": "code",
   "execution_count": null,
   "id": "ba83a611",
   "metadata": {},
   "outputs": [],
   "source": [
    "arr = [4, 2, 7, 2, 4, 22, 7, 1, 1,22,6, 3, 3] # Найти в массиве элемент без пары\n",
    "result = 0\n",
    "for num in arr:\n",
    "    result ^= num  # ^ только или\tУстанавливает каждый бит в 1 если только один из битов 1\n",
    "print(result)"
   ]
  },
  {
   "cell_type": "code",
   "execution_count": null,
   "id": "06365e42",
   "metadata": {},
   "outputs": [],
   "source": [
    "user_input = input(\"Введите элементы массива через пробел: \")    #максимальная сумму подряд идущих элементов в массиве\n",
    "array = list(map(int,user_input.split()))                        #Создание списка(массива) из введеных через пробел чисел\n",
    "max_ending_here = max_so_far = array[0]                            #list(map(lambda x: x ** 2, [11, 22, 33, 44,55])) Вывод [121, 484, 1089, 1936, 3025]\n",
    "for num in array[1:]:\n",
    "    max_ending_here = max(num, max_ending_here + num)\n",
    "    max_so_far = max(max_so_far, max_ending_here)\n",
    "print(f\"Максимальная сумма подряд идущих элементов: {max_so_far}\")"
   ]
  },
  {
   "cell_type": "code",
   "execution_count": null,
   "id": "5a7773e3",
   "metadata": {},
   "outputs": [],
   "source": [
    "num = int(input(\"Введите целое число: \")) #Сумма всех четных чилел в диапазоне введеных чисел\n",
    "total_sum = 0\n",
    "for i in range(1,num+1):\n",
    "    if i%2==0:\n",
    "        total_sum+=i\n",
    "print(f\"Сумма всех чисел от 1 до {num} равна: {total_sum}\")"
   ]
  },
  {
   "cell_type": "code",
   "execution_count": null,
   "id": "223b6b81",
   "metadata": {},
   "outputs": [],
   "source": [
    "sentence = str(input(\"Введите текстовое предложение\"))  #Подсчет гласных,согласных и всех букв в строке\n",
    "sentence=sentence.lower()\n",
    "glasnue=0\n",
    "soglasnue=0\n",
    "for i in sentence:\n",
    "    if i in \"а,у,о,ы,э,я,ю,ё,и,е\":\n",
    "        glasnue+=1\n",
    "    else:\n",
    "        soglasnue+=1\n",
    "print(f\"Количество Согласных букв в предложении: {sentence} равно {soglasnue}\")          \n",
    "print(f\"Количество Гласных букв в предложении: {sentence} равно {glasnue}\")\n",
    "print(f\"Количество Всех букв в предложении: {sentence} равно\", len(sentence))"
   ]
  },
  {
   "cell_type": "code",
   "execution_count": null,
   "id": "d7d8233e",
   "metadata": {
    "scrolled": true
   },
   "outputs": [],
   "source": [
    "m = int(input('Введите число для вычисления факториала: '))         #Факториал\n",
    "factorial = 1\n",
    "for i in range(1, m + 1):\n",
    "    factorial = factorial * i\n",
    "print(f\"Факториал числа {m} равен {factorial}\")"
   ]
  },
  {
   "cell_type": "code",
   "execution_count": null,
   "id": "6de392ce",
   "metadata": {},
   "outputs": [],
   "source": [
    "def factorial(n):                             #Рекурсия Факториал\n",
    "    if n == 0 or n == 1:\n",
    "        return 1\n",
    "    else:\n",
    "        return n * factorial(n - 1)\n",
    "result = factorial(5)\n",
    "print(result)"
   ]
  },
  {
   "cell_type": "code",
   "execution_count": null,
   "id": "e256d357",
   "metadata": {},
   "outputs": [],
   "source": [
    "numbers = [5, 10, 15, 20, 25]    #Напишите программу, которая принимает список чисел и возвращает их среднее значение.\n",
    "sum_numbers=sum(numbers)\n",
    "sred_numbers=sum_numbers/len(numbers)\n",
    "print(sred_numbers)"
   ]
  },
  {
   "cell_type": "code",
   "execution_count": null,
   "id": "6700f310",
   "metadata": {},
   "outputs": [],
   "source": [
    "def stepen():                                   #Степень числа через функцию\n",
    "    m=int(input('Введите число :'))\n",
    "    n=int(input('Введите степень числа :'))\n",
    "    h=m**n \n",
    "    print('Ваше число {0} в степени {1}'.format(m,n) ,'=',h)\n",
    "stepen()"
   ]
  },
  {
   "cell_type": "code",
   "execution_count": null,
   "id": "132a39a1",
   "metadata": {},
   "outputs": [],
   "source": [
    "import random                           #Задачка тренажер сложения,вычетания,умножения,деления\n",
    "m=random.randint(400,500)\n",
    "n=random.randint(200,400)\n",
    "q=random.randint(1,10)\n",
    "w=random.randint(1,10)\n",
    "e=random.randrange(0,201,10)\n",
    "r=random.randrange(0,11,5)\n",
    "def main():   \n",
    "    slojenie()  \n",
    "    vuchet() \n",
    "    umnojenie() \n",
    "    delenie()    \n",
    "def slojenie():\n",
    "    otvet=int(input('Сколько будет {0} Прибавить {1}, Твой ответ :'.format(m,n)))\n",
    "    if m+n==otvet:\n",
    "        print('Поздравляю, Отлично!')\n",
    "    else:\n",
    "        print('Ну ты и мудак,правильный ответ {0}+{1}='.format(m,n),m+n)\n",
    "def vuchet(): \n",
    "    otvet1=int(input('Сколько будет {0} Отнять {1}, Твой ответ :'.format(m,n)))\n",
    "    if m-n==otvet1:\n",
    "        print('Поздравляю, Отлично!')\n",
    "    else:\n",
    "        print('Ну ты и мудак,правильный ответ {0}-{1}='.format(m,n),m-n)                  \n",
    "def umnojenie(): \n",
    "    otvet2=int(input('Сколько будет {0}  Умножить на {1}, Твой ответ :'.format(q,w)))\n",
    "    if q*w==otvet2:\n",
    "        print('Поздравляю, Отлично!')\n",
    "    else:\n",
    "        print('Ну ты и мудак,правильный ответ {0}*{1}='.format(q,w),q*w)                  \n",
    "def delenie():  \n",
    "    otvet3=int(input('Сколько будет {0}  Разделить на {1}, Твой ответ :'.format(e,r)))\n",
    "    if e/r==otvet3:\n",
    "        print('Поздравляю, Отлично!')\n",
    "    else:\n",
    "        print('Ну ты и мудак,правильный ответ {0}/{1}='.format(e,r),e/r)  \n",
    "main()"
   ]
  },
  {
   "cell_type": "code",
   "execution_count": null,
   "id": "46c84fae",
   "metadata": {},
   "outputs": [],
   "source": [
    "a=float(input( 'Введите 1й Катет: '))                  #Теорема Пифагора\n",
    "b=float(input( 'Введите 2й Катет: '))\n",
    "c=(a**2+b**2)**0.5\n",
    "print('Гипотенуза равна:',c)\n",
    "\n",
    "#def somefunk (a,b):\n",
    "    #c=(a**2+b**2)**0.5\n",
    "    #print(c)\n",
    "#somefunk(3,4)"
   ]
  },
  {
   "cell_type": "code",
   "execution_count": null,
   "id": "b4bfecb2",
   "metadata": {},
   "outputs": [],
   "source": [
    "a=int(input(\"Введите число\"))                          # Простые и непростые числа\n",
    "b=0\n",
    "deliteli=[]\n",
    "for i in range(1,a+1):\n",
    "    if a%i==0:\n",
    "        b+=1\n",
    "        deliteli.append(i)\n",
    "if b==2:\n",
    "    print(\"Число простое\")\n",
    "else:\n",
    "    print(\"Число не простое, его делители:\", ', '.join(map(str, deliteli)))"
   ]
  },
  {
   "cell_type": "code",
   "execution_count": null,
   "id": "90a77c98",
   "metadata": {},
   "outputs": [],
   "source": [
    "sec=int(input(\"Введите количество секунд-\"))                   #Задачка на расчет времени\n",
    "if sec >=60 and sec<3600:\n",
    "    print(\"количество минут - \",(sec//60),\"Секунд \",sec%60)\n",
    "else:\n",
    "    if sec>=3600 and sec<86400:\n",
    "        print(\"количество часов - \",(sec//3600), \"Минут-\",sec//60%60,\"Секунд-\",sec%60)\n",
    "    else:\n",
    "        if sec>=86400:\n",
    "            print(\"количество Дней - \",(sec//86400),\"количество часов - \",sec%86400//3600, \"Минут-\",sec//60%60,\"Секунд-\",sec%60)\n",
    "        else:\n",
    "            print(\"Вы ввели количество секунд: \", sec)"
   ]
  },
  {
   "cell_type": "code",
   "execution_count": null,
   "id": "1019c487",
   "metadata": {},
   "outputs": [],
   "source": [
    "amount_due = 5000.0                                       #Округление числа\n",
    "monthly_payment = amount_due / 12.0\n",
    "print (f'Ежемесячный платеж составляет {monthly_payment:.4f}. ')"
   ]
  },
  {
   "cell_type": "code",
   "execution_count": null,
   "id": "223eafa2",
   "metadata": {},
   "outputs": [],
   "source": [
    "import pandas as pd                               #Создание дата фреймов и объединение их\n",
    "df=pd.DataFrame({'one':pd.Series([1,2,3],index=['a','b','c']),\n",
    "                 'two':pd.Series([1,2,3,4],index=['a','b','c','d'])})\n",
    "df2=pd.DataFrame({'one':{'e':0,'f':1},'three':{'e':2}})\n",
    "pd.concat([df,df2], axis=0)"
   ]
  },
  {
   "cell_type": "code",
   "execution_count": null,
   "id": "9124375f",
   "metadata": {},
   "outputs": [],
   "source": [
    "v=int(input('Скорость автомобиля:'))                       #задачка c Циклом на скорость асвтомобиля\n",
    "t=int(input('Введите время автомобился в пути:'))\n",
    "\n",
    "for i in range(1,t+1):\n",
    "    s=v*i   \n",
    "    print(\"Растояние которое автомобиль проедит со скоростью {0}км/час, за\".format(v),i,\"-й час =\", s ,'км')\n",
    "    \n",
    "    #print(\"Растояние которое автомобиль проедит со скоростью {0}км/час, за {1} часов =\".format(v,t), s ,'км')"
   ]
  },
  {
   "cell_type": "code",
   "execution_count": null,
   "id": "587b035d",
   "metadata": {
    "scrolled": true
   },
   "outputs": [],
   "source": [
    "for i in range (1,21,1):                                #задачка на преобразование температур\n",
    "    temper_C=i*9/5+32\n",
    "\n",
    "#temper_C=float(input('Введите температуру в градусах Цельсия:'))                    \n",
    "    print(\"Задана температура в градусах Цельсия=\",i, \"или\", temper_C,\"Градусов по Фаренгейту\")"
   ]
  },
  {
   "cell_type": "code",
   "execution_count": null,
   "id": "be82a65c",
   "metadata": {},
   "outputs": [],
   "source": [
    "summa_nachala=float(input(\"Введите начальную сумму взноса-\"))           #задачка со сложным процентом\n",
    "proc_stavka=float(input(\"Выберите годувую процентную ставку-\"))\n",
    "kol_let=float(input(\"На какой срок хотите положить деньги-\"))\n",
    "chastota=float(input(\"сколько раз в году будет начисляться % ?-\"))\n",
    "if chastota>4:\n",
    "    chastota=4   \n",
    "else:\n",
    "        chastota=12\n",
    "A=summa_nachala*((1+proc_stavka/chastota)**proc_stavka*chastota)\n",
    "\n",
    "print(\"Сумма которую Вы получите по концу вклада=\",A)"
   ]
  },
  {
   "cell_type": "code",
   "execution_count": null,
   "id": "5267c278",
   "metadata": {},
   "outputs": [],
   "source": [
    "size=int(input('Слышь ты бля,Введи размер твоего ведра')) #ФУНКЦИИ/ Расчет захара от объема кружки(1 ложка на 100мл=норма,больше-предуприждение)\n",
    "sugar_dose=int(input('Ты,Бля,Сколько весел думаешь положить сахара?'))\n",
    "norma=sugar_dose/size*100\n",
    "def make_coffee(size, sugar_dose):                    \n",
    "    if norma > 1: \n",
    "        return 'Мудила,Дохрена сахара,сыпь меньше,уебень, ёпт! :( '\n",
    "    else:\n",
    "        return 'Нормуль, на твоё ведро размером {0}; количество вёсел сахара = {1}'.format(size, sugar_dose)\n",
    "make_coffee(size,sugar_dose)"
   ]
  },
  {
   "cell_type": "code",
   "execution_count": null,
   "id": "f6196267",
   "metadata": {},
   "outputs": [],
   "source": [
    "den_nedeli=int(input(\"Введите день недели от 1 до 7-\"))           #задачка с определением дня недели\n",
    "if den_nedeli == 1:\n",
    "    print(\"Понедельник\")\n",
    "else:\n",
    "    if den_nedeli == 2:\n",
    "        print(\"Вторник\")\n",
    "    else:\n",
    "        if den_nedeli == 2:\n",
    "            print(\"Вторник\")\n",
    "        else:\n",
    "            if den_nedeli == 3:\n",
    "                print(\"Среда\")\n",
    "            else:\n",
    "                    if den_nedeli == 4:\n",
    "                        print(\"Четверг\")\n",
    "                    else:\n",
    "                            if den_nedeli == 5:\n",
    "                                print(\"Пятница\")\n",
    "                            else:\n",
    "                                    if den_nedeli == 6:\n",
    "                                        print(\"Суббота\")\n",
    "                                    else:\n",
    "                                            if den_nedeli == 7:\n",
    "                                                print(\"Воскресенье\")\n",
    "                                            else:\n",
    "                                                print(\"Ошибка ввода дня недели\")"
   ]
  },
  {
   "cell_type": "code",
   "execution_count": null,
   "id": "02d36e17",
   "metadata": {},
   "outputs": [],
   "source": [
    "encrypted_text=\"\"\n",
    "with open('Cesar.txt','r') as file:        #Шифровка файла(чтение из файла далее шифровка и запись в новый файл)\n",
    "    text_list=file.read().split()\n",
    "\n",
    "m1={'а':'d','б':'e','в':'f','г':'g','д':'h','е':'i','ё':'j','ж':'k','з':'l',\n",
    "    'и':'m','й':'n','к':'o','л':'p','м':'q','н':'r','о':'s','п':'t','р':'u',\n",
    "    'с':'v','т':'w','у':'x','ф':'y','х':'z','ц':'!','ч':'@','ш':'#','щ':'$',\n",
    "    'ъ':'%','ы':'^','ь':'&','э':'*','ю':'+','я':'-'}\n",
    "\n",
    "for word in text_list:\n",
    "    for i in word:\n",
    "        if i in m1.keys():\n",
    "            encrypted_text+=m1[i]\n",
    "        else:\n",
    "            encrypted_text+=i\n",
    "    #encrypted_text+='\\n'  перенос текста на новую строку\n",
    "with open('Cesar_shifr.txt','w') as encrypted_file:\n",
    "    encrypted_file.write(encrypted_text)    "
   ]
  },
  {
   "cell_type": "code",
   "execution_count": null,
   "id": "03de89d5",
   "metadata": {},
   "outputs": [],
   "source": [
    "encrypted_text=\"\"\n",
    "with open('Cesar_shifr.txt','r') as file:        #ДЕШифровка файла(чтение из файла далее шифровка и запись в новый файл)\n",
    "    text_list=file.read().split()\n",
    "\n",
    "m1={'d':'а','e':'б','f':'в','g':'г','h':'д','i':'е','j':'ё','k':'ж','l':'з',\n",
    "    'm':'и','n':'й','o':'к','p':'л','q':'м','r':'н','s':'о','t':'п','u':'р',\n",
    "    'v':'с','w':'т','x':'у','y':'ф','z':'х','!':'ц','@':'ч','#':'ш','$':'щ',\n",
    "    '%':'ъ','^':'ы','&':'ь','*':'э','+':'ю','-':'я'}\n",
    "\n",
    "for word in text_list:\n",
    "    for i in word:\n",
    "        if i in m1.keys():\n",
    "            encrypted_text+=m1[i]\n",
    "        else:\n",
    "            encrypted_text+=i\n",
    "    encrypted_text+='\\n'\n",
    "with open('Cesar_deshifr.txt','w') as encrypted_file:\n",
    "    encrypted_file.write(encrypted_text)"
   ]
  },
  {
   "cell_type": "code",
   "execution_count": null,
   "id": "c03a5faa",
   "metadata": {
    "scrolled": false
   },
   "outputs": [],
   "source": [
    "import random                                       #Задача на случ.100 числел и определения четных и нечетных чисел.\n",
    "a= [random.randint(1,100) for i in range (100)]\n",
    "b=sum(1 for num in a if num%2==0)\n",
    "c=len(a)-b\n",
    "print(a)\n",
    "print('Количество четных чисел=',b)\n",
    "print('Количество Не четных чисел=',c)"
   ]
  },
  {
   "cell_type": "code",
   "execution_count": null,
   "id": "402d6af2",
   "metadata": {},
   "outputs": [],
   "source": [
    "                        #Google задача на 200к$ (есть массив из 4х элементов.нужно найти макс используя знаки + - * /)\n",
    "m=[1,0.1,1.5,-5]      \n",
    "n=[m[0]+m[1],m[0]-m[1],m[0]*m[1],m[0]/m[1]]\n",
    "a=[max(n)+m[2],max(n)-m[2],max(n)*m[2],max(n)/m[2]]\n",
    "b=[min(n)+m[2],min(n)-m[2],min(n)*m[2],min(n)/m[2]]\n",
    "d=[max(a)+m[3],max(a)-m[3],max(a)*m[3],max(a)/m[3]]\n",
    "e=[min(b)+m[3],min(b)-m[3],min(b)*m[3],min(b)/m[3]]\n",
    "c=max(d)\n",
    "f=max(e)\n",
    "print(float(max(c,f)))     "
   ]
  },
  {
   "cell_type": "code",
   "execution_count": null,
   "id": "02db1813",
   "metadata": {},
   "outputs": [],
   "source": [
    "kol_dney=int(input(\"введи Количество дней\"))  #Задача на кол-во дней если каждый день увеличивать на 2\n",
    "for number in range(kol_dney):\n",
    "    total=2**number\n",
    "    if total>=10000000000:\n",
    "        break\n",
    "    print(number+1,total)"
   ]
  },
  {
   "cell_type": "code",
   "execution_count": null,
   "id": "17d5a73a",
   "metadata": {},
   "outputs": [],
   "source": [
    "from collections import deque                   #Граф (Функция --Поиск в Ширину)\n",
    "graph = {\n",
    "    'Симферополь': ['Скворцово','Укромное'],\n",
    "    'Скворцово': ['Саки','Михайловка','Симферополь'],\n",
    "    'Укромное': ['Гвардейское','Симферополь'],\n",
    "    'Саки': ['Евпатория','Скворцово'],\n",
    "    'Михайловка': ['Новофёдоровка','Скворцово'],\n",
    "    'Гвардейское': ['Укромное'],\n",
    "    'Евпатория': ['Мирный','Черноморское','Оленёвка','Саки'],\n",
    "    'Новофёдоровка': ['Михайловка'],\n",
    "    'Мирный': ['Евпатория'],\n",
    "    'Черноморское': ['Евпатория'],\n",
    "    'Оленёвка': ['Евпатория']\n",
    "}\n",
    "def bfs(graph, start):  #алгоритм поиска в ширину, BFS (breadth-first search algorithm)\n",
    "    visited = set()\n",
    "    queue = deque([start])\n",
    "    while queue:\n",
    "        node = queue.popleft()\n",
    "        if node not in visited:\n",
    "            print(node, end=' ')\n",
    "            visited.add(node)\n",
    "            queue.extend(neighbor for neighbor in graph[node] if neighbor not in visited)\n",
    "print(\"Результат BFS:\")\n",
    "bfs(graph, 'Оленёвка')"
   ]
  },
  {
   "cell_type": "code",
   "execution_count": null,
   "id": "db94ab16",
   "metadata": {},
   "outputs": [],
   "source": [
    "# Исходный массив                                       Сортировка Пузырьком(меняем в цикле местами элементы массива)\n",
    "my_list = [64, 34, 25, 12, 22, 11, 90]\n",
    "\n",
    "print(\"Исходный массив:\", my_list)\n",
    "\n",
    "# Проходим по всем элементам массива\n",
    "n = len(my_list)\n",
    "for i in range(n):\n",
    "    # Последние i элементов уже отсортированы\n",
    "    for j in range(0, n-i-1):\n",
    "        # Сравниваем соседние элементы\n",
    "        if my_list[j] > my_list[j+1]:\n",
    "                                         # Меняем элементы местами, если они находятся в неправильном порядке\n",
    "            my_list[j], my_list[j+1] = my_list[j+1], my_list[j]\n",
    "\n",
    "# Вывод отсортированного массива\n",
    "print(\"Отсортированный массив:\", my_list)\n"
   ]
  },
  {
   "cell_type": "code",
   "execution_count": null,
   "id": "855e1f60",
   "metadata": {},
   "outputs": [],
   "source": [
    "from mlxtend.preprocessing import TransactionEncoder          #Алгорит Априори (Apriori- перебор данных,асоциативные приавила)\n",
    "from mlxtend.frequent_patterns import apriori, association_rules\n",
    "import pandas as pd\n",
    "# Пример данных\n",
    "data = [['Milk', 'Onion', 'Nutmeg', 'Kidney Beans', 'Eggs', 'Yogurt'],\n",
    "        ['Dill', 'Onion', 'Nutmeg', 'Kidney Beans', 'Eggs', 'Yogurt'],\n",
    "        ['Milk', 'Apple', 'Kidney Beans', 'Eggs'],\n",
    "        ['Milk', 'Unicorn', 'Corn', 'Kidney Beans', 'Yogurt'],\n",
    "        ['Corn', 'Onion', 'Onion', 'Kidney Beans', 'Ice cream', 'Eggs']]\n",
    "\n",
    "# Преобразование данных в формат, подходящий для алгоритма Apriori\n",
    "te = TransactionEncoder()\n",
    "te_ary = te.fit(data).transform(data)\n",
    "df = pd.DataFrame(te_ary, columns=te.columns_)\n",
    "\n",
    "# Применение алгоритма Apriori\n",
    "frequent_itemsets = apriori(df, min_support=0.6, use_colnames=True)\n",
    "\n",
    "# Оценка правил ассоциации\n",
    "rules = association_rules(frequent_itemsets, metric=\"confidence\", min_threshold=0.7)\n",
    "\n",
    "# Вывод результатов\n",
    "print(\"Частые наборы:\")\n",
    "print(frequent_itemsets)\n",
    "\n",
    "print(\"\\nПравила ассоциации:\")\n",
    "print(rules)"
   ]
  },
  {
   "cell_type": "markdown",
   "id": "a7a7f382",
   "metadata": {},
   "source": [
    "# ГРАФИКИ"
   ]
  },
  {
   "cell_type": "code",
   "execution_count": null,
   "id": "a791fdcd",
   "metadata": {
    "scrolled": false
   },
   "outputs": [],
   "source": [
    "import pandas as pd                                        #ТЕПЛОВОЙ ГРАФИК с загрузкой из файла ексель\n",
    "import matplotlib.pyplot as plt \n",
    "import seaborn as sns\n",
    "df=pd.read_excel('RC_F01_01_2023_T08_11_2023.xlsx', sheet_name='RC')\n",
    "\n",
    "fig, ax = plt.subplots(figsize=(3,3))  \n",
    "sns.heatmap(df, annot=True, fmt=\".0f\",linewidths=.5, cmap=\"YlGnBu\", ax=ax);\n",
    "\n",
    "#plt.plot(df['План'],label='План', color='red', linestyle='--',marker='o')           ЛИНЕЙНЫЙ ГРАФИК\n",
    "#plt.plot(df['Факт'],label='Факт', color='green', linestyle='--',marker='*')\n",
    "#plt.legend()\n",
    "#plt.title('Выполнение плана 2023')\n",
    "#plt.xlabel('Месяц')\n",
    "#plt.ylabel('млн.Рублей')"
   ]
  },
  {
   "cell_type": "code",
   "execution_count": null,
   "id": "87718a1d",
   "metadata": {
    "scrolled": false
   },
   "outputs": [],
   "source": [
    "import matplotlib.pyplot as plt      #построение графика из рандомных чисел\n",
    "import random\n",
    "\n",
    "random_nambers=[random.randint(1,20) for i in range(20)]\n",
    "plt.plot(random_nambers, marker='o',linestyle='-',color=\"green\")\n",
    "plt.title('случайные числа от 1 до 10')\n",
    "plt.xlabel('Индекс')\n",
    "plt.ylabel('Значение')\n",
    "plt.show()"
   ]
  },
  {
   "cell_type": "markdown",
   "id": "585c7dde",
   "metadata": {},
   "source": [
    "# ИГРЫ"
   ]
  },
  {
   "cell_type": "code",
   "execution_count": null,
   "id": "241850a6",
   "metadata": {},
   "outputs": [],
   "source": [
    "import random                   #Угадай число за наименьшее кол-во шагов (Алгоритм Бинарного поиска)\n",
    "def number_game():\n",
    "    low = 1\n",
    "    high = 100\n",
    "    number = random.randint(low, high)\n",
    "    steps = 0\n",
    "    found = False\n",
    "    while not found:\n",
    "        guess = (low + high) // 2\n",
    "        steps += 1\n",
    "        if guess == number:\n",
    "            found = True\n",
    "            print(f\"Программа угадала число {number} за {steps} шагов.\")\n",
    "        elif guess < number:\n",
    "            low = guess + 1\n",
    "        else:\n",
    "            high = guess - 1\n",
    "number_game()"
   ]
  },
  {
   "cell_type": "code",
   "execution_count": null,
   "id": "8fa3fa01",
   "metadata": {
    "scrolled": false
   },
   "outputs": [],
   "source": [
    "                             #ИГРА КУБИКИ\n",
    "import random\n",
    "MIN=1\n",
    "MAX=6\n",
    "def main():\n",
    "    again=\"д\"\n",
    "    while again ==\"д\" or again ==\"Д\":\n",
    "        print(\"Бросаем кубики...\")\n",
    "        print(\"Значение граней:\")\n",
    "        print(random.randint(MIN,MAX))\n",
    "        print(random.randint(MIN,MAX))\n",
    "        again=input(\"Бросаем кубики еще раз?(д=да):\")\n",
    "main()"
   ]
  },
  {
   "cell_type": "code",
   "execution_count": null,
   "id": "823c467f",
   "metadata": {},
   "outputs": [],
   "source": [
    "import random                              # ИГРА Арёл,Решька\n",
    "import pandas as pd\n",
    "orel=1\n",
    "reshka=2\n",
    "kolvo=6\n",
    "def main():\n",
    "    for i in range(kolvo):\n",
    "        if random.randint(orel,reshka)==orel:\n",
    "            print(\"Арёл\")\n",
    "        else:\n",
    "            print(\"Решька\")       \n",
    "main()"
   ]
  },
  {
   "cell_type": "code",
   "execution_count": null,
   "id": "7dd3ca24",
   "metadata": {},
   "outputs": [],
   "source": [
    "import random                                 #Рандом зачарки 6ти линка в Path of exile\n",
    "sin = 1\n",
    "kras = 2\n",
    "zel = 3\n",
    "jel = 4\n",
    "kolvo = 6\n",
    "def main():\n",
    "    count = 0  # Переменная для отслеживания количества срабатываний\n",
    "    while True:\n",
    "        colors = [random.randrange(sin, jel) for i in range(kolvo)]\n",
    "        count += 1  # Увеличиваем счетчик срабатываний\n",
    "        if all(color == colors[0] for color in colors):\n",
    "            # Если все цвета одинаковы, завершаем цикл\n",
    "            break\n",
    "    for color in colors:\n",
    "        if color == sin:\n",
    "            print(\"Синий\")\n",
    "        elif color == kras:\n",
    "            print(\"Красный\")\n",
    "        elif color == zel:\n",
    "            print(\"Зеленый\")\n",
    "        elif color == jel:\n",
    "            print(\"Желтый\")\n",
    "    print(f\"Все цвета совпали после {count} срабатываний.\")\n",
    "\n",
    "main()"
   ]
  },
  {
   "cell_type": "code",
   "execution_count": null,
   "id": "6b79b837",
   "metadata": {},
   "outputs": [],
   "source": [
    "import random                                     #Игра Камень ножницы бумага\n",
    "a= random.randint(1,3)   \n",
    "m=int(input('Введите число от 1 до 3, где 1 это Камень, 2-Ножницы, 3-Бумага '))\n",
    "if m==a:\n",
    "    print(\"Ничья\")\n",
    "elif m==1 and a==2:\n",
    "    print(\"Выграл Игрок\")\n",
    "elif m==1 and a==3:\n",
    "    print(\"Выграл Компьютер\")\n",
    "elif m==2 and a==1:\n",
    "    print(\"Выграл Компьютер\")\n",
    "elif m==2 and a==3:\n",
    "    print(\"Выграл Игрок\")\n",
    "elif m==3 and a==1:\n",
    "    print(\"Выграл Игрок\")\n",
    "elif m==3 and a==2:\n",
    "    print(\"Выграл Компьютер\")     "
   ]
  },
  {
   "cell_type": "code",
   "execution_count": null,
   "id": "75325f8c",
   "metadata": {},
   "outputs": [],
   "source": [
    "import random                       #Игра угадай число\n",
    "\n",
    "def guess_number_game():\n",
    "    number = random.randint(1, 100)\n",
    "    print(\"Привет! Я загадал число от 1 до 100. Попробуй угадать его!\")\n",
    "\n",
    "    while True:\n",
    "        guess = int(input(\"Введи свой вариант: \"))\n",
    "\n",
    "        if guess < number:\n",
    "            print(\"Мое число больше, чем твой вариант!\")\n",
    "        elif guess > number:\n",
    "            print(\"Мое число меньше, чем твой вариант!\")\n",
    "        else:\n",
    "            print(\"Поздравляю! Ты угадал число!\")\n",
    "            break\n",
    "\n",
    "guess_number_game()"
   ]
  },
  {
   "cell_type": "markdown",
   "id": "86ebbbc1",
   "metadata": {},
   "source": [
    "# ПРОЧЕЕ"
   ]
  },
  {
   "cell_type": "code",
   "execution_count": null,
   "id": "557c7776",
   "metadata": {},
   "outputs": [],
   "source": [
    "'''df.plot(kind='scatter', x='Трафик', y='Магазин', title='Rating');\n",
    "df.loc[10:100] вывести позиции массива с 10 по 100\n",
    "df.iloc[1]  вывести конкретную позицию с индексом 1\n",
    "df = df.rename(columns={'Дата': 'ds','Продажи_день': 'y'}) переименование колонок\n",
    "df.groupby('Продажи').sum() #Агрегирование данных''' \n",
    "df[['Трафик','Магазин']].plot.line(figsize=(50, 50),color={\"Трафик\": \"red\", \"Магазин\": \"blue\"})\n",
    "df.to_csv ('n_best{}.csv')      #сохранение файла\n",
    "\n",
    "df['Продажи'] = df['Продажи'].str.replace(',', '.').astype(float)  #Преобразивание типа данных Object в float\n",
    "\n",
    "summa = df.groupby('Магазин')['Продажи'].sum()"
   ]
  },
  {
   "cell_type": "code",
   "execution_count": null,
   "id": "9a24c4ad",
   "metadata": {},
   "outputs": [],
   "source": [
    "end=int(input(\"Какое конечное число? -\"))          # Число в степени\n",
    "print('Число\\tКвадрат числа') \n",
    "print('---------------------')\n",
    "for number in range(1,end+1):\n",
    "    square = number**2\n",
    "    print(f'{number}\\t{square}') "
   ]
  },
  {
   "cell_type": "code",
   "execution_count": null,
   "id": "78048b91",
   "metadata": {},
   "outputs": [],
   "source": [
    "max=5                              #Сумма счетчик\n",
    "total=0\n",
    "for number in range(max):\n",
    "    end=int(input(\"введи количестов ошибок в день\"))  \n",
    "    total=total+end\n",
    "print(total)"
   ]
  },
  {
   "cell_type": "code",
   "execution_count": null,
   "id": "a5cbfc81",
   "metadata": {},
   "outputs": [],
   "source": [
    "print('Минут\\tСожжено калорий') \n",
    "print('---------------------')\n",
    "kal_in_min=4.2\n",
    "for number in range(10,31,5): \n",
    "    total=kal_in_min*number\n",
    "    print(f'{number}\\t{total}')"
   ]
  },
  {
   "cell_type": "code",
   "execution_count": null,
   "id": "185c7cbc",
   "metadata": {},
   "outputs": [],
   "source": [
    "class Food:                          #Няшки,Вкусняшки\n",
    "    def __init__(self, name):\n",
    "        self.name = name\n",
    "    def taste(self):\n",
    "        return \"Вкусняшка\"\n",
    "class Animal:\n",
    "    def __init__(self, name):\n",
    "        self.name = name\n",
    "    def sound(self):\n",
    "        return \"Няшка\"\n",
    "    \n",
    "def main():\n",
    "    user_input = input(\"Введите слово: \")\n",
    "    # Проверяем, принадлежит ли введенное слово к классу Еда\n",
    "    if user_input.lower() in ['яблоко', 'банан', 'пицца']:\n",
    "        food_obj = Food(user_input)\n",
    "        result = food_obj.taste()\n",
    "    # Проверяем, принадлежит ли введенное слово к классу Животные\n",
    "    elif user_input.lower() in ['кошка', 'собака', 'хомяк']:\n",
    "        animal_obj = Animal(user_input)\n",
    "        result = animal_obj.sound()\n",
    "    else:\n",
    "        result = \"Не удалось распознать.\"\n",
    "    print(result)\n",
    "if __name__ == \"__main__\":\n",
    "    main()"
   ]
  },
  {
   "cell_type": "code",
   "execution_count": 8,
   "id": "855bb481",
   "metadata": {},
   "outputs": [
    {
     "name": "stdout",
     "output_type": "stream",
     "text": [
      "1,000,0001,000,0001,000,000\n"
     ]
    }
   ],
   "source": [
    "\n"
   ]
  },
  {
   "cell_type": "code",
   "execution_count": null,
   "id": "06e79f1e",
   "metadata": {},
   "outputs": [],
   "source": []
  }
 ],
 "metadata": {
  "kernelspec": {
   "display_name": "Python 3 (ipykernel)",
   "language": "python",
   "name": "python3"
  },
  "language_info": {
   "codemirror_mode": {
    "name": "ipython",
    "version": 3
   },
   "file_extension": ".py",
   "mimetype": "text/x-python",
   "name": "python",
   "nbconvert_exporter": "python",
   "pygments_lexer": "ipython3",
   "version": "3.11.5"
  },
  "widgets": {
   "application/vnd.jupyter.widget-state+json": {
    "state": {},
    "version_major": 2,
    "version_minor": 0
   }
  }
 },
 "nbformat": 4,
 "nbformat_minor": 5
}
