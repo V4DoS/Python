{
 "cells": [
  {
   "cell_type": "markdown",
   "id": "18d4fa6b",
   "metadata": {},
   "source": [
    "# СТРУКТЫРЫ ДАННЫХ."
   ]
  },
  {
   "cell_type": "code",
   "execution_count": null,
   "id": "71e9b605",
   "metadata": {},
   "outputs": [],
   "source": [
    "x=['Привет','Вадим','Викторович']\n",
    "x.insert(0,'Большой')\n",
    "x.insert(2,'Бондаренко')\n",
    "x.append('Тебе')\n",
    "\n",
    "print(x)"
   ]
  },
  {
   "cell_type": "code",
   "execution_count": null,
   "id": "36a132ba",
   "metadata": {},
   "outputs": [],
   "source": [
    "x.remove('Тебе')\n",
    "print(x)"
   ]
  },
  {
   "cell_type": "code",
   "execution_count": null,
   "id": "2c2a0122",
   "metadata": {
    "scrolled": false
   },
   "outputs": [],
   "source": [
    "#a=range(1,100,2)                       Рандом\n",
    "#a=list(a)\n",
    "#print(len(a))\n",
    "#print(a)\n",
    "\n",
    "import random\n",
    "def main(): \n",
    "    for count in range(10): \n",
    "        nomber=random.randint(1,100)\n",
    "        print(nomber, end='|') \n",
    "main()   "
   ]
  },
  {
   "cell_type": "code",
   "execution_count": null,
   "id": "6db8c160",
   "metadata": {},
   "outputs": [],
   "source": [
    "for num in range(1,10,2):           #циклы.Четные числа    \n",
    "    print(num+1)"
   ]
  },
  {
   "cell_type": "code",
   "execution_count": null,
   "id": "460b9c11",
   "metadata": {},
   "outputs": [],
   "source": [
    "counter=0            #Счетчик\n",
    "for i in range(10):\n",
    "    if i>=5:\n",
    "        counter+=1\n",
    "    print(counter)"
   ]
  },
  {
   "cell_type": "code",
   "execution_count": null,
   "id": "2f8f6d1f",
   "metadata": {},
   "outputs": [],
   "source": [
    "s=\"Дата поставки товара : 20-10-2023\"\n",
    "new_s=''\n",
    "for i in s:\n",
    "    if i.isdigit()==True: #True - убираем буквы , иначе убираем цифры\n",
    "        new_s+=i\n",
    "    else:\n",
    "        pass"
   ]
  },
  {
   "cell_type": "code",
   "execution_count": null,
   "id": "e450d71d",
   "metadata": {},
   "outputs": [],
   "source": [
    "new_s"
   ]
  },
  {
   "cell_type": "code",
   "execution_count": null,
   "id": "3223e792",
   "metadata": {},
   "outputs": [],
   "source": [
    "import pandas as pd\n",
    "pd.to_datetime(new_s, format=\"%d%m%Y\")"
   ]
  },
  {
   "cell_type": "code",
   "execution_count": null,
   "id": "ba0b266a",
   "metadata": {},
   "outputs": [],
   "source": [
    "\n",
    "name = input ( 'Как Вас зовут? ')                #ввод значений\n",
    "age = int(input('Cкo льк o Вам лет? '))\n",
    "income = float(input('Kaкoй у Вас доход? '))\n",
    "print ( 'Вот данные, которые Вы ввели: ' )\n",
    "print ('Имя:', name)\n",
    "print ('Boзpacт:', age)\n",
    "print ('Доход: ', income)"
   ]
  },
  {
   "cell_type": "code",
   "execution_count": null,
   "id": "aa32087f",
   "metadata": {},
   "outputs": [],
   "source": [
    "#Создайте список из 10 имен (с разными длинами очевидно) отсортируйте по убываю длины имени.\n",
    "name=['Вадим','Инна', 'Влад', 'Виктор', 'Валентина' ,'Андрюша', 'Юля' ,'Таня' ,'Кирил' ,'Сима']\n",
    "sorted(name, key=lambda x: len(x))"
   ]
  },
  {
   "cell_type": "code",
   "execution_count": null,
   "id": "4f93ec51",
   "metadata": {},
   "outputs": [],
   "source": [
    "[x if x in 'aeiou' else '*' for x in 'apple'] #Пересечение ,поиск одинаковых символов\n",
    "#a = [i for i in range (int(input ()))]       Создание массива из введенного кол-ва элементов"
   ]
  },
  {
   "cell_type": "code",
   "execution_count": null,
   "id": "807cbc23",
   "metadata": {},
   "outputs": [],
   "source": [
    "s1 = set(range(0, 10))   #Поиск и исключение пересечений\n",
    "s2 = set(range(5, 15))"
   ]
  },
  {
   "cell_type": "code",
   "execution_count": null,
   "id": "b3706bc6",
   "metadata": {
    "scrolled": true
   },
   "outputs": [],
   "source": [
    "print(s1.difference(s2))\n",
    "print()\n",
    "print(s2.difference(s1))"
   ]
  },
  {
   "cell_type": "code",
   "execution_count": null,
   "id": "041714e0",
   "metadata": {},
   "outputs": [],
   "source": [
    "s1.intersection(s2)     #Пересечения"
   ]
  },
  {
   "cell_type": "markdown",
   "id": "43c20996",
   "metadata": {},
   "source": [
    "# АЛГОРИТМЫ.ЗАДАЧИ."
   ]
  },
  {
   "cell_type": "code",
   "execution_count": null,
   "id": "37251e63",
   "metadata": {},
   "outputs": [],
   "source": [
    "s=[5,9,13,19,11,21,17,8,2]              #Возведение каждого элемента списка в квадрат\n",
    "s1=[x**2 for x in s]              #Генератор списка\n",
    "print(s1)"
   ]
  },
  {
   "cell_type": "code",
   "execution_count": null,
   "id": "6700f310",
   "metadata": {},
   "outputs": [],
   "source": [
    "def stepen():                                   #Степень числа через функцию\n",
    "    m=int(input('Введите число :'))\n",
    "    n=int(input('Введите степень числа :'))\n",
    "    h=m**n\n",
    "    print('Ваше число {0} в степени {1}'.format(m,n) ,'=',h)\n",
    "stepen()"
   ]
  },
  {
   "cell_type": "code",
   "execution_count": null,
   "id": "132a39a1",
   "metadata": {},
   "outputs": [],
   "source": [
    "import random                           #Задачка тренажер сложения,вычетания,умножения,деления\n",
    "m=random.randint(400,500)\n",
    "n=random.randint(200,400)\n",
    "q=random.randint(1,10)\n",
    "w=random.randint(1,10)\n",
    "e=random.randrange(0,201,10)\n",
    "r=random.randrange(0,11,5)\n",
    "def main():   \n",
    "    slojenie()  \n",
    "    vuchet() \n",
    "    umnojenie() \n",
    "    delenie()    \n",
    "def slojenie():\n",
    "    otvet=int(input('Сколько будет {0} Прибавить {1}, Твой ответ :'.format(m,n)))\n",
    "    if m+n==otvet:\n",
    "        print('Поздравляю, Отлично!')\n",
    "    else:\n",
    "        print('Ну ты и мудак,правильный ответ {0}+{1}='.format(m,n),m+n)\n",
    "def vuchet(): \n",
    "    otvet1=int(input('Сколько будет {0} Отнять {1}, Твой ответ :'.format(m,n)))\n",
    "    if m-n==otvet1:\n",
    "        print('Поздравляю, Отлично!')\n",
    "    else:\n",
    "        print('Ну ты и мудак,правильный ответ {0}-{1}='.format(m,n),m-n)                  \n",
    "def umnojenie(): \n",
    "    otvet2=int(input('Сколько будет {0}  Умножить на {1}, Твой ответ :'.format(q,w)))\n",
    "    if q*w==otvet2:\n",
    "        print('Поздравляю, Отлично!')\n",
    "    else:\n",
    "        print('Ну ты и мудак,правильный ответ {0}*{1}='.format(q,w),q*w)                  \n",
    "def delenie():  \n",
    "    otvet3=int(input('Сколько будет {0}  Разделить на {1}, Твой ответ :'.format(e,r)))\n",
    "    if e/r==otvet3:\n",
    "        print('Поздравляю, Отлично!')\n",
    "    else:\n",
    "        print('Ну ты и мудак,правильный ответ {0}/{1}='.format(e,r),e/r)                  \n",
    "main()"
   ]
  },
  {
   "cell_type": "code",
   "execution_count": null,
   "id": "46c84fae",
   "metadata": {},
   "outputs": [],
   "source": [
    "a=float(input( 'Введите 1й Катет: '))                  #Теорема Пифагора\n",
    "b=float(input( 'Введите 2й Катет: '))\n",
    "c=(a**2+b**2)**0.5\n",
    "print('Гипотенуза равна:',c)\n",
    "\n",
    "#def somefunk (a,b):\n",
    "    #c=(a**2+b**2)**0.5\n",
    "    #print(c)\n",
    "#somefunk(3,4)"
   ]
  },
  {
   "cell_type": "code",
   "execution_count": null,
   "id": "b4bfecb2",
   "metadata": {},
   "outputs": [],
   "source": [
    "a=int(input(\"Введите число\"))                          # Простые и непростые числа\n",
    "b=0\n",
    "deliteli=[]\n",
    "for i in range(1,a+1):\n",
    "    if a%i==0:\n",
    "        b+=1\n",
    "        deliteli.append(i)\n",
    "if b==2:\n",
    "    print(\"Число простое\")\n",
    "else:\n",
    "    print(\"Число не простое,его делители:\")\n",
    "    print(deliteli)"
   ]
  },
  {
   "cell_type": "code",
   "execution_count": null,
   "id": "90a77c98",
   "metadata": {},
   "outputs": [],
   "source": [
    "sec=int(input(\"Введите количество секунд-\"))                   #Задачка на расчет времени\n",
    "if sec >=60 and sec<3600:\n",
    "    print(\"количество минут - \",(sec//60),\"Секунд \",sec%60)\n",
    "else:\n",
    "    if sec>=3600 and sec<86400:\n",
    "        print(\"количество часов - \",(sec//3600), \"Минут-\",sec//60%60,\"Секунд-\",sec%60)\n",
    "    else:\n",
    "        if sec>=86400:\n",
    "            print(\"количество Дней - \",(sec//86400),\"количество часов - \",sec%86400//3600, \"Минут-\",sec//60%60,\"Секунд-\",sec%60)\n",
    "        else:\n",
    "            print(\"Вы ввели количество секунд: \", sec)"
   ]
  },
  {
   "cell_type": "code",
   "execution_count": null,
   "id": "1019c487",
   "metadata": {},
   "outputs": [],
   "source": [
    "amount_due = 5000.0                                       #Округление числа\n",
    "monthly_payment = amount_due / 12.0\n",
    "print (f'Ежемесячный платеж составляет {monthly_payment:.4f}. ')"
   ]
  },
  {
   "cell_type": "code",
   "execution_count": null,
   "id": "223eafa2",
   "metadata": {},
   "outputs": [],
   "source": [
    "import pandas as pd                               #Создание дата фреймов и объединение их\n",
    "df=pd.DataFrame({'one':pd.Series([1,2,3],index=['a','b','c']),\n",
    "                 'two':pd.Series([1,2,3,4],index=['a','b','c','d'])})\n",
    "df2=pd.DataFrame({'one':{'e':0,'f':1},'three':{'e':2}})\n",
    "pd.concat([df,df2], axis=0)"
   ]
  },
  {
   "cell_type": "code",
   "execution_count": null,
   "id": "9124375f",
   "metadata": {},
   "outputs": [],
   "source": [
    "v=int(input('Скорость автомобиля:'))                       #задачка c Циклом на скорость асвтомобиля\n",
    "t=int(input('Введите время автомобился в пути:'))\n",
    "\n",
    "for i in range(1,t+1):\n",
    "    s=v*i   \n",
    "    print(\"Растояние которое автомобиль проедит со скоростью {0}км/час, за\".format(v),i,\"-й час =\", s ,'км')\n",
    "    \n",
    "    #print(\"Растояние которое автомобиль проедит со скоростью {0}км/час, за {1} часов =\".format(v,t), s ,'км')"
   ]
  },
  {
   "cell_type": "code",
   "execution_count": null,
   "id": "587b035d",
   "metadata": {
    "scrolled": true
   },
   "outputs": [],
   "source": [
    "for i in range (1,21,1):                                #задачка на преобразование температур\n",
    "    temper_C=i*9/5+32\n",
    "\n",
    "#temper_C=float(input('Введите температуру в градусах Цельсия:'))                    \n",
    "    print(\"Задана температура в градусах Цельсия=\",i, \"или\", temper_C,\"Градусов по Фаренгейту\")"
   ]
  },
  {
   "cell_type": "code",
   "execution_count": null,
   "id": "be82a65c",
   "metadata": {},
   "outputs": [],
   "source": [
    "summa_nachala=float(input(\"Введите начальную сумму взноса-\"))           #задачка со сложным процентом\n",
    "proc_stavka=float(input(\"Выберите годувую процентную ставку-\"))\n",
    "kol_let=float(input(\"На какой срок хотите положить деньги-\"))\n",
    "chastota=float(input(\"сколько раз в году будет начисляться % ?-\"))\n",
    "if chastota>4:\n",
    "    chastota=4   \n",
    "else:\n",
    "        chastota=12\n",
    "A=summa_nachala*((1+proc_stavka/chastota)**proc_stavka*chastota)\n",
    "\n",
    "print(\"Сумма которую Вы получите по концу вклада=\",A)"
   ]
  },
  {
   "cell_type": "code",
   "execution_count": null,
   "id": "5267c278",
   "metadata": {},
   "outputs": [],
   "source": [
    "size=int(input('Слышь ты бля,Введи размер твоего ведра')) #ФУНКЦИИ/ Расчет захара от объема кружки(1 ложка на 100мл=норма,больше-предуприждение)\n",
    "sugar_dose=int(input('Ты,Бля,Сколько весел думаешь положить сахара?'))\n",
    "norma=sugar_dose/size*100\n",
    "def make_coffee(size, sugar_dose):                    \n",
    "    if norma > 1: \n",
    "        return 'Мудила,Дохрена сахара,сыпь меньше,уебень, ёпт! :( '\n",
    "    else:\n",
    "        return 'Нормуль, на твоё ведро размером {0}; количество вёсел сахара = {1}'.format(size, sugar_dose)\n",
    "make_coffee(size,sugar_dose)"
   ]
  },
  {
   "cell_type": "code",
   "execution_count": null,
   "id": "f6196267",
   "metadata": {},
   "outputs": [],
   "source": [
    "den_nedeli=int(input(\"Введите день недели от 1 до 7-\"))           #задачка с определением дня недели\n",
    "if den_nedeli == 1:\n",
    "    print(\"Понедельник\")\n",
    "else:\n",
    "    if den_nedeli == 2:\n",
    "        print(\"Вторник\")\n",
    "    else:\n",
    "        if den_nedeli == 2:\n",
    "            print(\"Вторник\")\n",
    "        else:\n",
    "            if den_nedeli == 3:\n",
    "                print(\"Среда\")\n",
    "            else:\n",
    "                    if den_nedeli == 4:\n",
    "                        print(\"Четверг\")\n",
    "                    else:\n",
    "                            if den_nedeli == 5:\n",
    "                                print(\"Пятница\")\n",
    "                            else:\n",
    "                                    if den_nedeli == 6:\n",
    "                                        print(\"Суббота\")\n",
    "                                    else:\n",
    "                                            if den_nedeli == 7:\n",
    "                                                print(\"Воскресенье\")\n",
    "                                            else:\n",
    "                                                print(\"Ошибка ввода дня недели\")"
   ]
  },
  {
   "cell_type": "code",
   "execution_count": null,
   "id": "02d36e17",
   "metadata": {},
   "outputs": [],
   "source": [
    "encrypted_text=\"\"\n",
    "with open('Cesar.txt','r') as file:        #Шифровка файла(чтение из файла далее шифровка и запись в новый файл)\n",
    "    text_list=file.read().split()\n",
    "\n",
    "m1={'а':'d','б':'e','в':'f','г':'g','д':'h','е':'i','ё':'j','ж':'k','з':'l',\n",
    "    'и':'m','й':'n','к':'o','л':'p','м':'q','н':'r','о':'s','п':'t','р':'u',\n",
    "    'с':'v','т':'w','у':'x','ф':'y','х':'z','ц':'!','ч':'@','ш':'#','щ':'$',\n",
    "    'ъ':'%','ы':'^','ь':'&','э':'*','ю':'+','я':'-'}\n",
    "\n",
    "for word in text_list:\n",
    "    for i in word:\n",
    "        if i in m1.keys():\n",
    "            encrypted_text+=m1[i]\n",
    "        else:\n",
    "            encrypted_text+=i\n",
    "    #encrypted_text+='\\n'  перенос текста на новую строку\n",
    "with open('Cesar_shifr.txt','w') as encrypted_file:\n",
    "    encrypted_file.write(encrypted_text)    "
   ]
  },
  {
   "cell_type": "code",
   "execution_count": null,
   "id": "03de89d5",
   "metadata": {},
   "outputs": [],
   "source": [
    "encrypted_text=\"\"\n",
    "with open('Cesar_shifr.txt','r') as file:        #ДЕШифровка файла(чтение из файла далее шифровка и запись в новый файл)\n",
    "    text_list=file.read().split()\n",
    "\n",
    "m1={'d':'а','e':'б','f':'в','g':'г','h':'д','i':'е','j':'ё','k':'ж','l':'з',\n",
    "    'm':'и','n':'й','o':'к','p':'л','q':'м','r':'н','s':'о','t':'п','u':'р',\n",
    "    'v':'с','w':'т','x':'у','y':'ф','z':'х','!':'ц','@':'ч','#':'ш','$':'щ',\n",
    "    '%':'ъ','^':'ы','&':'ь','*':'э','+':'ю','-':'я'}\n",
    "\n",
    "for word in text_list:\n",
    "    for i in word:\n",
    "        if i in m1.keys():\n",
    "            encrypted_text+=m1[i]\n",
    "        else:\n",
    "            encrypted_text+=i\n",
    "    encrypted_text+='\\n'\n",
    "with open('Cesar_deshifr.txt','w') as encrypted_file:\n",
    "    encrypted_file.write(encrypted_text)"
   ]
  },
  {
   "cell_type": "code",
   "execution_count": null,
   "id": "c03a5faa",
   "metadata": {
    "scrolled": false
   },
   "outputs": [],
   "source": [
    "import random                                       #Задача на случ.100 числел и определения четных и нечетных чисел.\n",
    "a= [random.randint(1,100) for i in range (100)]\n",
    "b=sum(1 for num in a if num%2==0)\n",
    "c=len(a)-b\n",
    "print(a)\n",
    "print('Количество четных чисел=',b)\n",
    "print('Количество Не четных чисел=',c)"
   ]
  },
  {
   "cell_type": "code",
   "execution_count": null,
   "id": "402d6af2",
   "metadata": {},
   "outputs": [],
   "source": [
    "                        #Google задача на 200к$ (есть массив из 4х элементов.нужно найти макс используя знаки + - * /)\n",
    "m=[1,0.1,1.5,-5]      \n",
    "n=[m[0]+m[1],m[0]-m[1],m[0]*m[1],m[0]/m[1]]\n",
    "a=[max(n)+m[2],max(n)-m[2],max(n)*m[2],max(n)/m[2]]\n",
    "b=[min(n)+m[2],min(n)-m[2],min(n)*m[2],min(n)/m[2]]\n",
    "d=[max(a)+m[3],max(a)-m[3],max(a)*m[3],max(a)/m[3]]\n",
    "e=[min(b)+m[3],min(b)-m[3],min(b)*m[3],min(b)/m[3]]\n",
    "c=max(d)\n",
    "f=max(e)\n",
    "print(float(max(c,f)))     "
   ]
  },
  {
   "cell_type": "code",
   "execution_count": null,
   "id": "02db1813",
   "metadata": {},
   "outputs": [],
   "source": [
    "kol_dney=int(input(\"введи Количество дней\"))  #Интересная задача на кол-во дней если каждый день \n",
    "for number in range(kol_dney):\n",
    "    total=2**number\n",
    "    if total>=10000000000:\n",
    "        break\n",
    "    print(number+1,total)"
   ]
  },
  {
   "cell_type": "markdown",
   "id": "a7a7f382",
   "metadata": {},
   "source": [
    "# ГРАФИКИ"
   ]
  },
  {
   "cell_type": "code",
   "execution_count": null,
   "id": "a791fdcd",
   "metadata": {
    "scrolled": false
   },
   "outputs": [],
   "source": [
    "import pandas as pd                                        #ТЕПЛОВОЙ ГРАФИК с загрузкой из файла ексель\n",
    "import matplotlib.pyplot as plt \n",
    "import seaborn as sns\n",
    "df=pd.read_excel('RC_F01_01_2023_T08_11_2023.xlsx', sheet_name='RC')\n",
    "\n",
    "fig, ax = plt.subplots(figsize=(3,3))  \n",
    "sns.heatmap(df, annot=True, fmt=\".0f\",linewidths=.5, cmap=\"YlGnBu\", ax=ax);\n",
    "\n",
    "#plt.plot(df['План'],label='План', color='red', linestyle='--',marker='o')           ЛИНЕЙНЫЙ ГРАФИК\n",
    "#plt.plot(df['Факт'],label='Факт', color='green', linestyle='--',marker='*')\n",
    "#plt.legend()\n",
    "#plt.title('Выполнение плана 2023')\n",
    "#plt.xlabel('Месяц')\n",
    "#plt.ylabel('млн.Рублей')"
   ]
  },
  {
   "cell_type": "code",
   "execution_count": null,
   "id": "87718a1d",
   "metadata": {
    "scrolled": false
   },
   "outputs": [],
   "source": [
    "import matplotlib.pyplot as plt      #построение графика из рандомных чисел\n",
    "import random\n",
    "\n",
    "random_nambers=[random.randint(1,20) for i in range(20)]\n",
    "plt.plot(random_nambers, marker='o',linestyle='-',color=\"green\")\n",
    "plt.title('случайные числа от 1 до 10')\n",
    "plt.xlabel('Индекс')\n",
    "plt.ylabel('Значение')\n",
    "plt.show()"
   ]
  },
  {
   "cell_type": "markdown",
   "id": "585c7dde",
   "metadata": {},
   "source": [
    "# ИГРЫ"
   ]
  },
  {
   "cell_type": "code",
   "execution_count": null,
   "id": "8fa3fa01",
   "metadata": {
    "scrolled": false
   },
   "outputs": [],
   "source": [
    "                             #ИГРА КУБИКИ\n",
    "import random\n",
    "MIN=1\n",
    "MAX=6\n",
    "def main():\n",
    "    again=\"д\"\n",
    "    while again ==\"д\" or again ==\"Д\":\n",
    "        print(\"Бросаем кубики...\")\n",
    "        print(\"Значение граней:\")\n",
    "        print(random.randint(MIN,MAX))\n",
    "        print(random.randint(MIN,MAX))\n",
    "        again=input(\"Бросаем кубики еще раз?(д=да):\")\n",
    "main()"
   ]
  },
  {
   "cell_type": "code",
   "execution_count": null,
   "id": "823c467f",
   "metadata": {},
   "outputs": [],
   "source": [
    "import random                              # ИГРА Арёл,Решька\n",
    "import pandas as pd\n",
    "orel=1\n",
    "reshka=2\n",
    "kolvo=6\n",
    "def main():\n",
    "    for i in range(kolvo):\n",
    "        if random.randint(orel,reshka)==orel:\n",
    "            print(\"Арёл\")\n",
    "        else:\n",
    "            print(\"Решька\")       \n",
    "main()"
   ]
  },
  {
   "cell_type": "code",
   "execution_count": null,
   "id": "7dd3ca24",
   "metadata": {},
   "outputs": [],
   "source": [
    "import random                                 #Рандом зачарки 6ти линка в Path of exile\n",
    "sin = 1\n",
    "kras = 2\n",
    "zel = 3\n",
    "jel = 4\n",
    "kolvo = 6\n",
    "def main():\n",
    "    count = 0  # Переменная для отслеживания количества срабатываний\n",
    "    while True:\n",
    "        colors = [random.randrange(sin, jel) for i in range(kolvo)]\n",
    "        count += 1  # Увеличиваем счетчик срабатываний\n",
    "        if all(color == colors[0] for color in colors):\n",
    "            # Если все цвета одинаковы, завершаем цикл\n",
    "            break\n",
    "    for color in colors:\n",
    "        if color == sin:\n",
    "            print(\"Синий\")\n",
    "        elif color == kras:\n",
    "            print(\"Красный\")\n",
    "        elif color == zel:\n",
    "            print(\"Зеленый\")\n",
    "        elif color == jel:\n",
    "            print(\"Желтый\")\n",
    "    print(f\"Все цвета совпали после {count} срабатываний.\")\n",
    "\n",
    "main()"
   ]
  },
  {
   "cell_type": "code",
   "execution_count": null,
   "id": "6b79b837",
   "metadata": {},
   "outputs": [],
   "source": [
    "import random                                     #Игра Камень ножницы бумага\n",
    "a= random.randint(1,3)   \n",
    "m=int(input('Введите число от 1 до 3, где 1 это Камень, 2-Ножницы, 3-Бумага '))\n",
    "if m==a:\n",
    "    print(\"Ничья\")\n",
    "elif m==1 and a==2:\n",
    "    print(\"Выграл Игрок\")\n",
    "elif m==1 and a==3:\n",
    "    print(\"Выграл Компьютер\")\n",
    "elif m==2 and a==1:\n",
    "    print(\"Выграл Компьютер\")\n",
    "elif m==2 and a==3:\n",
    "    print(\"Выграл Игрок\")\n",
    "elif m==3 and a==1:\n",
    "    print(\"Выграл Игрок\")\n",
    "elif m==3 and a==2:\n",
    "    print(\"Выграл Компьютер\")     "
   ]
  },
  {
   "cell_type": "code",
   "execution_count": null,
   "id": "75325f8c",
   "metadata": {},
   "outputs": [],
   "source": [
    "import random                       #Игра угадай число\n",
    "\n",
    "def guess_number_game():\n",
    "    number = random.randint(1, 100)\n",
    "    print(\"Привет! Я загадал число от 1 до 100. Попробуй угадать его!\")\n",
    "\n",
    "    while True:\n",
    "        guess = int(input(\"Введи свой вариант: \"))\n",
    "\n",
    "        if guess < number:\n",
    "            print(\"Мое число больше, чем твой вариант!\")\n",
    "        elif guess > number:\n",
    "            print(\"Мое число меньше, чем твой вариант!\")\n",
    "        else:\n",
    "            print(\"Поздравляю! Ты угадал число!\")\n",
    "            break\n",
    "\n",
    "guess_number_game()"
   ]
  },
  {
   "cell_type": "code",
   "execution_count": null,
   "id": "241850a6",
   "metadata": {},
   "outputs": [],
   "source": [
    "import random                   #Игра угадай число за наименьшее кол-во шагов (Алгоритм Бинарного поиска)\n",
    "def number_game():\n",
    "    low = 1\n",
    "    high = 100\n",
    "    number = random.randint(low, high)\n",
    "    steps = 0\n",
    "    found = False\n",
    "    while not found:\n",
    "        guess = (low + high) // 2\n",
    "        steps += 1\n",
    "        if guess == number:\n",
    "            found = True\n",
    "            print(f\"Программа угадала число {number} за {steps} шагов.\")\n",
    "        elif guess < number:\n",
    "            low = guess + 1\n",
    "        else:\n",
    "            high = guess - 1\n",
    "number_game()"
   ]
  },
  {
   "cell_type": "markdown",
   "id": "86ebbbc1",
   "metadata": {},
   "source": [
    "# ПРОЧЕЕ"
   ]
  },
  {
   "cell_type": "code",
   "execution_count": null,
   "id": "557c7776",
   "metadata": {},
   "outputs": [],
   "source": [
    "'''df.plot(kind='scatter', x='Трафик', y='Магазин', title='Rating');\n",
    "df.loc[10:100] вывести позиции массива с 10 по 100\n",
    "df.iloc[1]  вывести конкретную позицию с индексом 1\n",
    "df = df.rename(columns={'Дата': 'ds','Продажи_день': 'y'}) переименование колонок\n",
    "df.groupby('Продажи').sum() #Агрегирование данных''' \n",
    "df[['Трафик','Магазин']].plot.line(figsize=(50, 50),color={\"Трафик\": \"red\", \"Магазин\": \"blue\"})\n",
    "df.to_csv ('n_best{}.csv')      #сохранение файла\n",
    "\n",
    "df['Продажи'] = df['Продажи'].str.replace(',', '.').astype(float)  #Преобразивание типа данных Object в float\n",
    "\n",
    "summa = df.groupby('Магазин')['Продажи'].sum()\n",
    "\n"
   ]
  },
  {
   "cell_type": "code",
   "execution_count": null,
   "id": "9a24c4ad",
   "metadata": {},
   "outputs": [],
   "source": [
    "end=int(input(\"Какое конечное число? -\"))          # Число в степени\n",
    "print('Число\\tКвадрат числа') \n",
    "print('---------------------')\n",
    "for number in range(1,end+1):\n",
    "    square = number**2\n",
    "    print(f'{number}\\t{square}') "
   ]
  },
  {
   "cell_type": "code",
   "execution_count": null,
   "id": "78048b91",
   "metadata": {},
   "outputs": [],
   "source": [
    "max=5                              #Сумма счетчик\n",
    "total=0\n",
    "for number in range(max):\n",
    "    end=int(input(\"введи количестов ошибок в день\"))  \n",
    "    total=total+end\n",
    "print(total)"
   ]
  },
  {
   "cell_type": "code",
   "execution_count": null,
   "id": "a5cbfc81",
   "metadata": {},
   "outputs": [],
   "source": [
    "print('Минут\\tСожжено калорий') \n",
    "print('---------------------')\n",
    "kal_in_min=4.2\n",
    "for number in range(10,31,5): \n",
    "    total=kal_in_min*number\n",
    "    print(f'{number}\\t{total}')"
   ]
  },
  {
   "cell_type": "code",
   "execution_count": 5,
   "id": "c206c3bb",
   "metadata": {},
   "outputs": [
    {
     "name": "stdout",
     "output_type": "stream",
     "text": [
      "Downloading data from https://storage.googleapis.com/tensorflow/tf-keras-datasets/mnist.npz\n"
     ]
    },
    {
     "ename": "Exception",
     "evalue": "URL fetch failure on https://storage.googleapis.com/tensorflow/tf-keras-datasets/mnist.npz: 403 -- Forbidden",
     "output_type": "error",
     "traceback": [
      "\u001b[1;31m---------------------------------------------------------------------------\u001b[0m",
      "\u001b[1;31mHTTPError\u001b[0m                                 Traceback (most recent call last)",
      "File \u001b[1;32m~\\AppData\\Local\\anaconda3\\Lib\\site-packages\\keras\\src\\utils\\data_utils.py:347\u001b[0m, in \u001b[0;36mget_file\u001b[1;34m(fname, origin, untar, md5_hash, file_hash, cache_subdir, hash_algorithm, extract, archive_format, cache_dir)\u001b[0m\n\u001b[0;32m    346\u001b[0m \u001b[38;5;28;01mtry\u001b[39;00m:\n\u001b[1;32m--> 347\u001b[0m     urlretrieve(origin, fpath, DLProgbar())\n\u001b[0;32m    348\u001b[0m \u001b[38;5;28;01mexcept\u001b[39;00m urllib\u001b[38;5;241m.\u001b[39merror\u001b[38;5;241m.\u001b[39mHTTPError \u001b[38;5;28;01mas\u001b[39;00m e:\n",
      "File \u001b[1;32m~\\AppData\\Local\\anaconda3\\Lib\\site-packages\\keras\\src\\utils\\data_utils.py:85\u001b[0m, in \u001b[0;36murlretrieve\u001b[1;34m(url, filename, reporthook, data)\u001b[0m\n\u001b[0;32m     83\u001b[0m             \u001b[38;5;28;01mbreak\u001b[39;00m\n\u001b[1;32m---> 85\u001b[0m response \u001b[38;5;241m=\u001b[39m urlopen(url, data)\n\u001b[0;32m     86\u001b[0m \u001b[38;5;28;01mwith\u001b[39;00m \u001b[38;5;28mopen\u001b[39m(filename, \u001b[38;5;124m\"\u001b[39m\u001b[38;5;124mwb\u001b[39m\u001b[38;5;124m\"\u001b[39m) \u001b[38;5;28;01mas\u001b[39;00m fd:\n",
      "File \u001b[1;32m~\\AppData\\Local\\anaconda3\\Lib\\urllib\\request.py:216\u001b[0m, in \u001b[0;36murlopen\u001b[1;34m(url, data, timeout, cafile, capath, cadefault, context)\u001b[0m\n\u001b[0;32m    215\u001b[0m     opener \u001b[38;5;241m=\u001b[39m _opener\n\u001b[1;32m--> 216\u001b[0m \u001b[38;5;28;01mreturn\u001b[39;00m opener\u001b[38;5;241m.\u001b[39mopen(url, data, timeout)\n",
      "File \u001b[1;32m~\\AppData\\Local\\anaconda3\\Lib\\urllib\\request.py:525\u001b[0m, in \u001b[0;36mOpenerDirector.open\u001b[1;34m(self, fullurl, data, timeout)\u001b[0m\n\u001b[0;32m    524\u001b[0m     meth \u001b[38;5;241m=\u001b[39m \u001b[38;5;28mgetattr\u001b[39m(processor, meth_name)\n\u001b[1;32m--> 525\u001b[0m     response \u001b[38;5;241m=\u001b[39m meth(req, response)\n\u001b[0;32m    527\u001b[0m \u001b[38;5;28;01mreturn\u001b[39;00m response\n",
      "File \u001b[1;32m~\\AppData\\Local\\anaconda3\\Lib\\urllib\\request.py:634\u001b[0m, in \u001b[0;36mHTTPErrorProcessor.http_response\u001b[1;34m(self, request, response)\u001b[0m\n\u001b[0;32m    633\u001b[0m \u001b[38;5;28;01mif\u001b[39;00m \u001b[38;5;129;01mnot\u001b[39;00m (\u001b[38;5;241m200\u001b[39m \u001b[38;5;241m<\u001b[39m\u001b[38;5;241m=\u001b[39m code \u001b[38;5;241m<\u001b[39m \u001b[38;5;241m300\u001b[39m):\n\u001b[1;32m--> 634\u001b[0m     response \u001b[38;5;241m=\u001b[39m \u001b[38;5;28mself\u001b[39m\u001b[38;5;241m.\u001b[39mparent\u001b[38;5;241m.\u001b[39merror(\n\u001b[0;32m    635\u001b[0m         \u001b[38;5;124m'\u001b[39m\u001b[38;5;124mhttp\u001b[39m\u001b[38;5;124m'\u001b[39m, request, response, code, msg, hdrs)\n\u001b[0;32m    637\u001b[0m \u001b[38;5;28;01mreturn\u001b[39;00m response\n",
      "File \u001b[1;32m~\\AppData\\Local\\anaconda3\\Lib\\urllib\\request.py:563\u001b[0m, in \u001b[0;36mOpenerDirector.error\u001b[1;34m(self, proto, *args)\u001b[0m\n\u001b[0;32m    562\u001b[0m args \u001b[38;5;241m=\u001b[39m (\u001b[38;5;28mdict\u001b[39m, \u001b[38;5;124m'\u001b[39m\u001b[38;5;124mdefault\u001b[39m\u001b[38;5;124m'\u001b[39m, \u001b[38;5;124m'\u001b[39m\u001b[38;5;124mhttp_error_default\u001b[39m\u001b[38;5;124m'\u001b[39m) \u001b[38;5;241m+\u001b[39m orig_args\n\u001b[1;32m--> 563\u001b[0m \u001b[38;5;28;01mreturn\u001b[39;00m \u001b[38;5;28mself\u001b[39m\u001b[38;5;241m.\u001b[39m_call_chain(\u001b[38;5;241m*\u001b[39margs)\n",
      "File \u001b[1;32m~\\AppData\\Local\\anaconda3\\Lib\\urllib\\request.py:496\u001b[0m, in \u001b[0;36mOpenerDirector._call_chain\u001b[1;34m(self, chain, kind, meth_name, *args)\u001b[0m\n\u001b[0;32m    495\u001b[0m func \u001b[38;5;241m=\u001b[39m \u001b[38;5;28mgetattr\u001b[39m(handler, meth_name)\n\u001b[1;32m--> 496\u001b[0m result \u001b[38;5;241m=\u001b[39m func(\u001b[38;5;241m*\u001b[39margs)\n\u001b[0;32m    497\u001b[0m \u001b[38;5;28;01mif\u001b[39;00m result \u001b[38;5;129;01mis\u001b[39;00m \u001b[38;5;129;01mnot\u001b[39;00m \u001b[38;5;28;01mNone\u001b[39;00m:\n",
      "File \u001b[1;32m~\\AppData\\Local\\anaconda3\\Lib\\urllib\\request.py:643\u001b[0m, in \u001b[0;36mHTTPDefaultErrorHandler.http_error_default\u001b[1;34m(self, req, fp, code, msg, hdrs)\u001b[0m\n\u001b[0;32m    642\u001b[0m \u001b[38;5;28;01mdef\u001b[39;00m \u001b[38;5;21mhttp_error_default\u001b[39m(\u001b[38;5;28mself\u001b[39m, req, fp, code, msg, hdrs):\n\u001b[1;32m--> 643\u001b[0m     \u001b[38;5;28;01mraise\u001b[39;00m HTTPError(req\u001b[38;5;241m.\u001b[39mfull_url, code, msg, hdrs, fp)\n",
      "\u001b[1;31mHTTPError\u001b[0m: HTTP Error 403: Forbidden",
      "\nDuring handling of the above exception, another exception occurred:\n",
      "\u001b[1;31mException\u001b[0m                                 Traceback (most recent call last)",
      "Cell \u001b[1;32mIn[5], line 10\u001b[0m\n\u001b[0;32m      8\u001b[0m \u001b[38;5;66;03m# Загрузка и предобработка набора данных MNIST\u001b[39;00m\n\u001b[0;32m      9\u001b[0m mnist \u001b[38;5;241m=\u001b[39m tf\u001b[38;5;241m.\u001b[39mkeras\u001b[38;5;241m.\u001b[39mdatasets\u001b[38;5;241m.\u001b[39mmnist\n\u001b[1;32m---> 10\u001b[0m (x_train, y_train), (x_test, y_test) \u001b[38;5;241m=\u001b[39m mnist\u001b[38;5;241m.\u001b[39mload_data()\n\u001b[0;32m     11\u001b[0m x_train, x_test \u001b[38;5;241m=\u001b[39m x_train \u001b[38;5;241m/\u001b[39m \u001b[38;5;241m255.0\u001b[39m, x_test \u001b[38;5;241m/\u001b[39m \u001b[38;5;241m255.0\u001b[39m\n\u001b[0;32m     13\u001b[0m \u001b[38;5;66;03m# Создание модели нейронной сети\u001b[39;00m\n",
      "File \u001b[1;32m~\\AppData\\Local\\anaconda3\\Lib\\site-packages\\keras\\src\\datasets\\mnist.py:75\u001b[0m, in \u001b[0;36mload_data\u001b[1;34m(path)\u001b[0m\n\u001b[0;32m     27\u001b[0m \u001b[38;5;250m\u001b[39m\u001b[38;5;124;03m\"\"\"Loads the MNIST dataset.\u001b[39;00m\n\u001b[0;32m     28\u001b[0m \n\u001b[0;32m     29\u001b[0m \u001b[38;5;124;03mThis is a dataset of 60,000 28x28 grayscale images of the 10 digits,\u001b[39;00m\n\u001b[1;32m   (...)\u001b[0m\n\u001b[0;32m     70\u001b[0m \u001b[38;5;124;03m  https://creativecommons.org/licenses/by-sa/3.0/)\u001b[39;00m\n\u001b[0;32m     71\u001b[0m \u001b[38;5;124;03m\"\"\"\u001b[39;00m\n\u001b[0;32m     72\u001b[0m origin_folder \u001b[38;5;241m=\u001b[39m (\n\u001b[0;32m     73\u001b[0m     \u001b[38;5;124m\"\u001b[39m\u001b[38;5;124mhttps://storage.googleapis.com/tensorflow/tf-keras-datasets/\u001b[39m\u001b[38;5;124m\"\u001b[39m\n\u001b[0;32m     74\u001b[0m )\n\u001b[1;32m---> 75\u001b[0m path \u001b[38;5;241m=\u001b[39m get_file(\n\u001b[0;32m     76\u001b[0m     path,\n\u001b[0;32m     77\u001b[0m     origin\u001b[38;5;241m=\u001b[39morigin_folder \u001b[38;5;241m+\u001b[39m \u001b[38;5;124m\"\u001b[39m\u001b[38;5;124mmnist.npz\u001b[39m\u001b[38;5;124m\"\u001b[39m,\n\u001b[0;32m     78\u001b[0m     file_hash\u001b[38;5;241m=\u001b[39m(  \u001b[38;5;66;03m# noqa: E501\u001b[39;00m\n\u001b[0;32m     79\u001b[0m         \u001b[38;5;124m\"\u001b[39m\u001b[38;5;124m731c5ac602752760c8e48fbffcf8c3b850d9dc2a2aedcf2cc48468fc17b673d1\u001b[39m\u001b[38;5;124m\"\u001b[39m\n\u001b[0;32m     80\u001b[0m     ),\n\u001b[0;32m     81\u001b[0m )\n\u001b[0;32m     82\u001b[0m \u001b[38;5;28;01mwith\u001b[39;00m np\u001b[38;5;241m.\u001b[39mload(path, allow_pickle\u001b[38;5;241m=\u001b[39m\u001b[38;5;28;01mTrue\u001b[39;00m) \u001b[38;5;28;01mas\u001b[39;00m f:\n\u001b[0;32m     83\u001b[0m     x_train, y_train \u001b[38;5;241m=\u001b[39m f[\u001b[38;5;124m\"\u001b[39m\u001b[38;5;124mx_train\u001b[39m\u001b[38;5;124m\"\u001b[39m], f[\u001b[38;5;124m\"\u001b[39m\u001b[38;5;124my_train\u001b[39m\u001b[38;5;124m\"\u001b[39m]\n",
      "File \u001b[1;32m~\\AppData\\Local\\anaconda3\\Lib\\site-packages\\keras\\src\\utils\\data_utils.py:349\u001b[0m, in \u001b[0;36mget_file\u001b[1;34m(fname, origin, untar, md5_hash, file_hash, cache_subdir, hash_algorithm, extract, archive_format, cache_dir)\u001b[0m\n\u001b[0;32m    347\u001b[0m     urlretrieve(origin, fpath, DLProgbar())\n\u001b[0;32m    348\u001b[0m \u001b[38;5;28;01mexcept\u001b[39;00m urllib\u001b[38;5;241m.\u001b[39merror\u001b[38;5;241m.\u001b[39mHTTPError \u001b[38;5;28;01mas\u001b[39;00m e:\n\u001b[1;32m--> 349\u001b[0m     \u001b[38;5;28;01mraise\u001b[39;00m \u001b[38;5;167;01mException\u001b[39;00m(error_msg\u001b[38;5;241m.\u001b[39mformat(origin, e\u001b[38;5;241m.\u001b[39mcode, e\u001b[38;5;241m.\u001b[39mmsg))\n\u001b[0;32m    350\u001b[0m \u001b[38;5;28;01mexcept\u001b[39;00m urllib\u001b[38;5;241m.\u001b[39merror\u001b[38;5;241m.\u001b[39mURLError \u001b[38;5;28;01mas\u001b[39;00m e:\n\u001b[0;32m    351\u001b[0m     \u001b[38;5;28;01mraise\u001b[39;00m \u001b[38;5;167;01mException\u001b[39;00m(error_msg\u001b[38;5;241m.\u001b[39mformat(origin, e\u001b[38;5;241m.\u001b[39merrno, e\u001b[38;5;241m.\u001b[39mreason))\n",
      "\u001b[1;31mException\u001b[0m: URL fetch failure on https://storage.googleapis.com/tensorflow/tf-keras-datasets/mnist.npz: 403 -- Forbidden"
     ]
    }
   ],
   "source": [
    "import tensorflow as tf\n",
    "from tensorflow.keras.models import Sequential\n",
    "from tensorflow.keras.layers import Dense, Flatten, Conv2D, MaxPooling2D\n",
    "import numpy as np\n",
    "import cv2\n",
    "import matplotlib.pyplot as plt\n",
    "\n",
    "# Загрузка и предобработка набора данных MNIST\n",
    "mnist = tf.keras.datasets.mnist\n",
    "(x_train, y_train), (x_test, y_test) = mnist.load_data()\n",
    "x_train, x_test = x_train / 255.0, x_test / 255.0\n",
    "\n",
    "# Создание модели нейронной сети\n",
    "model = Sequential([\n",
    "    Conv2D(32, (3, 3), activation='relu', input_shape=(28, 28, 1)),\n",
    "    MaxPooling2D((2, 2)),\n",
    "    Conv2D(64, (3, 3), activation='relu'),\n",
    "    MaxPooling2D((2, 2)),\n",
    "    Conv2D(64, (3, 3), activation='relu'),\n",
    "    Flatten(),\n",
    "    Dense(64, activation='relu'),\n",
    "    Dense(10, activation='softmax')\n",
    "])\n",
    "\n",
    "# Компиляция модели\n",
    "model.compile(optimizer='adam',\n",
    "              loss='sparse_categorical_crossentropy',\n",
    "              metrics=['accuracy'])\n",
    "\n",
    "# Обучение модели\n",
    "model.fit(x_train[..., np.newaxis], y_train, epochs=5)\n",
    "\n",
    "# Функция для загрузки и обработки фото для распознавания\n",
    "def process_image(file_path):\n",
    "    img = cv2.imread(file_path, cv2.IMREAD_GRAYSCALE)\n",
    "    img = cv2.resize(img, (28, 28))\n",
    "    img = np.array(img) / 255.0\n",
    "    return img.reshape(1, 28, 28, 1)\n",
    "\n",
    "# Загрузка изображения для распознавания и вывод результата\n",
    "file_path = '3.png'  # Укажите путь к вашему изображению\n",
    "input_image = process_image(file_path)\n",
    "prediction = model.predict(input_image)\n",
    "predicted_label = np.argmax(prediction)\n",
    "print(f'Predicted label: {predicted_label}')\n",
    "\n",
    "# Отображение изображения для визуальной проверки\n",
    "plt.imshow(input_image.reshape(28, 28), cmap='gray')\n",
    "plt.show()"
   ]
  }
 ],
 "metadata": {
  "kernelspec": {
   "display_name": "Python 3 (ipykernel)",
   "language": "python",
   "name": "python3"
  },
  "language_info": {
   "codemirror_mode": {
    "name": "ipython",
    "version": 3
   },
   "file_extension": ".py",
   "mimetype": "text/x-python",
   "name": "python",
   "nbconvert_exporter": "python",
   "pygments_lexer": "ipython3",
   "version": "3.11.5"
  },
  "widgets": {
   "application/vnd.jupyter.widget-state+json": {
    "state": {},
    "version_major": 2,
    "version_minor": 0
   }
  }
 },
 "nbformat": 4,
 "nbformat_minor": 5
}
