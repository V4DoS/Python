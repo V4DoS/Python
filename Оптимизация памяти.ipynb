{
 "cells": [
  {
   "cell_type": "code",
   "execution_count": null,
   "id": "180c567f-e4c1-4596-b73e-ec3df56e708f",
   "metadata": {},
   "outputs": [],
   "source": [
    "\n",
    "def reduce_mem_usage (df):\n",
    "    start_mem =df.memory_usage().sum()/1024**2\n",
    "    for col in df.columns:\n",
    "        col_type=df[col].dtypes\n",
    "        if str(col_type)[:5]==\"float\":\n",
    "            c_min=df[col].min()\n",
    "            c_max=df[col].max()\n",
    "            if c_min > np.finfo(\"f2\").min and c_max < np.finfo(\"f2\").max:\n",
    "                df[col] = df[col].astype(np.float16)\n",
    "            elif c_min > np.finfo(\"f4\").min and c_max < np.finfo(\"f4\").max:\n",
    "                df[col] = df[col].astype(np.float32)\n",
    "            else:\n",
    "                df[col] = df[col].astype (np.float64)\n",
    "        elif str(col_type)[:4]==\"int\":\n",
    "            c_min=df[col].min()\n",
    "            c_max=df[col].max()\n",
    "            if c_min > np.finfo(\"i1\").min and c_max < np.finfo(\"i1\").max:\n",
    "                df[col] = df[col].astype(np.int8)\n",
    "            elif c_min > np.finfo(\"i2\").min and c_max < np.finfo(\"i2\").max:\n",
    "                df[col] = df[col].astype(np.int16)\n",
    "            elif c_min > np.finfo(\"i4\").min and c_max < np.finfo(\"i4\").max:\n",
    "                df[col] = df[col].astype(np.int32)\n",
    "            elif c_min > np.finfo(\"i8\").min and c_max < np.finfo(\"i8\").max:\n",
    "                df[col] = df[col].astype(np.int64)\n",
    "        else:\n",
    "                df[col] = df[col].astype (\"category\")\n",
    "    end_mem =df.memory_usage().sum()/1024**2\n",
    "    print ('Потребление памяти меньше на', round(start_mem-end_mem,2), 'мб (минус', round(100* (start_mem-end_mem)/ \n",
    "            start_mem,1),'%)', 'Изначально было', round(start_mem,2),'мб ,', 'Стало', round(end_mem,2),'мб' )           \n",
    "    return df"
   ]
  },
  {
   "cell_type": "code",
   "execution_count": null,
   "id": "20aa358a-98db-47a1-898d-72884d04cdb9",
   "metadata": {},
   "outputs": [],
   "source": [
    "import pandas as pd\n",
    "import numpy as np\n",
    "# Загрузка данных из Excel-файла с корректным форматом даты\n",
    "df = pd.read_excel('C:/Users/bondarenKovv/Desktop/Python/Прогноз SKU/Продажи для мотивации маг.xlsx')\n",
    "\n",
    "# Преобразование формата даты\n",
    "df['Дата'] = pd.to_datetime(df['Дата'], format='%d.%m.%Y', dayfirst=True)\n"
   ]
  },
  {
   "cell_type": "code",
   "execution_count": null,
   "id": "bf33e79d-27a0-45df-92b5-1b9d01e5b55a",
   "metadata": {},
   "outputs": [],
   "source": [
    "reduce_mem_usage(df)"
   ]
  }
 ],
 "metadata": {
  "kernelspec": {
   "display_name": "Python 3 (ipykernel)",
   "language": "python",
   "name": "python3"
  },
  "language_info": {
   "codemirror_mode": {
    "name": "ipython",
    "version": 3
   },
   "file_extension": ".py",
   "mimetype": "text/x-python",
   "name": "python",
   "nbconvert_exporter": "python",
   "pygments_lexer": "ipython3",
   "version": "3.11.7"
  }
 },
 "nbformat": 4,
 "nbformat_minor": 5
}
