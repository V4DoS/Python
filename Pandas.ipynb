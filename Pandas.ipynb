{
 "cells": [
  {
   "cell_type": "markdown",
   "id": "b868be3e",
   "metadata": {},
   "source": [
    "# PANDAS"
   ]
  },
  {
   "cell_type": "code",
   "execution_count": null,
   "id": "e8779df8",
   "metadata": {
    "scrolled": true
   },
   "outputs": [],
   "source": [
    "import pandas as pd \n",
    "df1 = pd.DataFrame(data=[[1, 2], [3, 4], [5, 6]], columns=[\"A\", \"B\"])            #Генератор списка 1\n",
    "df2 = pd.DataFrame(data=[[10, 20], [30, 40]],columns=[\"C\", \"D\"], index=[1, 3])   #Генератор списка 2\n",
    "\n",
    "pd.concat([df1,df2], axis=0)  #Слияние\n",
    "df1.join(df2, how=\"inner\")    #Объединение\n",
    "df1.join(df2, how=\"left\")\n",
    "df1.join(df2, how=\"right\")\n",
    "df1.join(df2, how=\"outer\")"
   ]
  },
  {
   "cell_type": "code",
   "execution_count": null,
   "id": "736f9555",
   "metadata": {},
   "outputs": [],
   "source": [
    "df=pd.read_excel('RC_F01_01_2023_T08_11_2023.xlsx', sheet_name='RC')        #Загрузка из Excel\n",
    "df=pd.read_csv('RC_F01_01_2023_T08_11_2023.csv', sep=';',low_memory=False)  #Загрузка из CSV\n",
    "\n",
    "df.to_csv ('n_best{}.csv')                                                  #сохранение файла CSV\n",
    "df.to_excel('forecast_next_month.xlsx', index=False)                        #сохранение файла  Excel без Индекса\n",
    "\n",
    "df['Продажи'] = df['Продажи'].str.replace(',', '.').astype(float)           #Преобразивание типа данных Object в float\n",
    "summa = df.groupby('Магазин')['Продажи'].sum()                              #суммастолбка\n",
    "\n",
    "data['Дата'] = pd.to_datetime(data['Дата'], dayfirst=True)                  # Преобразование формата даты\n",
    "data = data[(data['Дата'] >= '2021-01-01')]                                 # Фильтр дат"
   ]
  },
  {
   "cell_type": "code",
   "execution_count": 13,
   "id": "db5f197d",
   "metadata": {},
   "outputs": [
    {
     "data": {
      "text/plain": [
       "<Book [Книга7]>"
      ]
     },
     "execution_count": 13,
     "metadata": {},
     "output_type": "execute_result"
    }
   ],
   "source": [
    "import xlwings as xw                 #Работа с Excel\n",
    "import pandas as pd \n",
    "import numpy as np\n",
    "import datetime as dt\n",
    "df = pd.DataFrame(data=np.random.randn(100, 5),columns=[f\"Колонка {i}\" for i in range(1, 6)])  #Генератор списка\n",
    "xw.view(df)            # Просмотр DataFrame в Excel\n"
   ]
  }
 ],
 "metadata": {
  "kernelspec": {
   "display_name": "Python 3 (ipykernel)",
   "language": "python",
   "name": "python3"
  },
  "language_info": {
   "codemirror_mode": {
    "name": "ipython",
    "version": 3
   },
   "file_extension": ".py",
   "mimetype": "text/x-python",
   "name": "python",
   "nbconvert_exporter": "python",
   "pygments_lexer": "ipython3",
   "version": "3.11.5"
  }
 },
 "nbformat": 4,
 "nbformat_minor": 5
}
