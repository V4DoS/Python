{
 "cells": [
  {
   "cell_type": "code",
   "execution_count": 6,
   "id": "d81d3dad",
   "metadata": {},
   "outputs": [
    {
     "name": "stdout",
     "output_type": "stream",
     "text": [
      "Часто продаваемые вместе товары (комбинации из двух товаров):\n",
      "                                                   0    1    2    3    4  \\\n",
      "0  Напиток 450 мл Flash Up Energy Bubble Gum энер...  NaN  NaN  NaN  NaN   \n",
      "1  Напиток 449мл Burn тропический микс энергетиче...  NaN  NaN  NaN  NaN   \n",
      "2  Булка 160 г Добмашня выпечка сдобная Круассан ...  NaN  NaN  NaN  NaN   \n",
      "3  Напиток с экстрактом кофе 20 г MacCoffee Origi...  NaN  NaN  NaN  NaN   \n",
      "4  Вода питьевая 5л Честный выбор негазированная ...  NaN  NaN  NaN  NaN   \n",
      "5         Печенье 100 г Конти Супер-Контик орех м/уп  NaN  NaN  NaN  NaN   \n",
      "6  Печенье 100 г Конти Супер-Контик сгущ. молоко ...  NaN  NaN  NaN  NaN   \n",
      "7          Печенье 200 г Комбинат Кубань Азбука м/уп  NaN  NaN  NaN  NaN   \n",
      "8  Вода 0,5 л Галерея Источников №4 природная леч...  NaN  NaN  NaN  NaN   \n",
      "9  Вафли десертные 90 гр Коломенское с шоколадным...  NaN  NaN  NaN  NaN   \n",
      "\n",
      "    support  \n",
      "0  0.002526  \n",
      "1  0.000821  \n",
      "2  0.000516  \n",
      "3  0.006225  \n",
      "4  0.005592  \n",
      "5  0.001697  \n",
      "6  0.001549  \n",
      "7  0.000829  \n",
      "8  0.000375  \n",
      "9  0.000211  \n"
     ]
    }
   ],
   "source": [
    "%%time\n",
    "from mlxtend.preprocessing import TransactionEncoder  #загрузка данных из EXCELL\n",
    "from mlxtend.frequent_patterns import fpgrowth\n",
    "\n",
    "import pandas as pd\n",
    "\n",
    "# Загрузка данных из Excel-файла\n",
    "df = pd.read_excel('C:/Users/bondarenKovv/Desktop/Python/Асоциативные правила/Apriori data.xlsx')\n",
    "\n",
    "# Группировка данных по идентификатору чека и формирование списка товаров в каждом чеке\n",
    "check_items = df.groupby('Индентификатор чека')['Номенклатура'].apply(list)\n",
    "\n",
    "# Преобразование данных в формат, подходящий для алгоритма ассоциативного анализа\n",
    "te = TransactionEncoder()\n",
    "te_ary = te.fit(check_items).transform(check_items)\n",
    "df_te = pd.DataFrame(te_ary, columns=te.columns_)\n",
    "\n",
    "# Построение часто встречающихся наборов с использованием алгоритма FP-Growth\n",
    "frequent_itemsets = fpgrowth(df_te, min_support=0.0001, use_colnames=True)\n",
    "\n",
    "# Разделение комбинаций на отдельные столбцы\n",
    "frequent_itemsets = pd.concat([frequent_itemsets['itemsets'].apply(lambda x: pd.Series(list(x))), frequent_itemsets['support']], axis=1)\n",
    "\n",
    "# Сохранение результатов в файл Excel\n",
    "frequent_itemsets.to_excel('C:/Users/bondarenKovv/Desktop/Python/Асоциативные правила/Sales_Combinations.xlsx', index=False)\n",
    "\n",
    "# Вывод результатов\n",
    "print(\"Часто продаваемые вместе товары (комбинации из двух товаров):\")\n",
    "print(frequent_itemsets.head(10))\n"
   ]
  },
  {
   "cell_type": "code",
   "execution_count": 12,
   "id": "8a648f90",
   "metadata": {},
   "outputs": [
    {
     "name": "stderr",
     "output_type": "stream",
     "text": [
      "<timed exec>:16: UserWarning: pandas only supports SQLAlchemy connectable (engine/connection) or database string URI or sqlite3 DBAPI2 connection. Other DBAPI2 objects are not tested. Please consider using SQLAlchemy.\n"
     ]
    },
    {
     "name": "stdout",
     "output_type": "stream",
     "text": [
      "Часто продаваемые вместе товары (комбинации товаров):\n",
      "                                                   0    1    2    3    4  \\\n",
      "0   Сигареты Marlboro Crafted Compact МТ МРЦ род [м]  NaN  NaN  NaN  NaN   \n",
      "1           Сигареты Winston XStyle Blue МТ МРЦ  род  NaN  NaN  NaN  NaN   \n",
      "2       Батончик 81 г Mars Snickers Лесной орех м/уп  NaN  NaN  NaN  NaN   \n",
      "3  Лапша 110 г Доширак Сытный обед со вкусом говя...  NaN  NaN  NaN  NaN   \n",
      "4         Чай 1л Rich Черный со вкусом Лимона пл/бут  NaN  NaN  NaN  NaN   \n",
      "5             Корм 350 г Kitekat Телятина сухой м/уп  NaN  NaN  NaN  NaN   \n",
      "6                                  Кешью жареный вес  NaN  NaN  NaN  NaN   \n",
      "7  Корм 0,75 кг ONE для кошек с чувствительным пи...  NaN  NaN  NaN  NaN   \n",
      "8   Напиток 1 л Вико Гранат сокосодержащий тетра-пак  NaN  NaN  NaN  NaN   \n",
      "9  Крабовые палочки 180 гр Русское Море Краб-ролл...  NaN  NaN  NaN  NaN   \n",
      "\n",
      "    support  \n",
      "0  0.000980  \n",
      "1  0.003462  \n",
      "2  0.001567  \n",
      "3  0.000698  \n",
      "4  0.000159  \n",
      "5  0.000822  \n",
      "6  0.000716  \n",
      "7  0.000203  \n",
      "8  0.000258  \n",
      "9  0.000209  \n",
      "CPU times: total: 1min 43s\n",
      "Wall time: 1min 56s\n"
     ]
    }
   ],
   "source": [
    "%%time\n",
    "from mlxtend.preprocessing import TransactionEncoder  #загрузка данных из ACCESS\n",
    "from mlxtend.frequent_patterns import fpgrowth\n",
    "import pandas as pd\n",
    "import pyodbc\n",
    "\n",
    "# Строка подключения к базе данных Access через ODBC\n",
    "conn_str = 'Driver={Microsoft Access Driver (*.mdb, *.accdb)};DBQ=C:/Users/bondarenKovv/Desktop/Python/Асоциативные правила/base_for_chek.accdb;'\n",
    "\n",
    "# Установка соединения с базой данных Access\n",
    "conn = pyodbc.connect(conn_str)\n",
    "\n",
    "# SQL-запрос для выборки данных из таблицы \"chek\"\n",
    "sql_query = \"SELECT * FROM chek\"\n",
    "\n",
    "# Чтение данных из базы данных в DataFrame с помощью pyodbc\n",
    "df = pd.read_sql(sql_query, conn)\n",
    "\n",
    "# Закрытие соединения с базой данных\n",
    "conn.close()\n",
    "\n",
    "# Группировка данных по идентификатору чека и формирование списка товаров в каждом чеке\n",
    "check_items = df.groupby('Индентификатор чека')['Номенклатура'].apply(list)\n",
    "\n",
    "# Преобразование данных в формат, подходящий для алгоритма ассоциативного анализа\n",
    "te = TransactionEncoder()\n",
    "te_ary = te.fit(check_items).transform(check_items)\n",
    "df_te = pd.DataFrame(te_ary, columns=te.columns_)\n",
    "\n",
    "# Построение часто встречающихся наборов с использованием алгоритма FP-Growth\n",
    "frequent_itemsets = fpgrowth(df_te, min_support=0.0001, use_colnames=True)\n",
    "\n",
    "# Разделение комбинаций на отдельные столбцы\n",
    "frequent_itemsets = pd.concat([frequent_itemsets['itemsets'].apply(lambda x: pd.Series(list(x))), frequent_itemsets['support']], axis=1)\n",
    "\n",
    "# Сохранение результатов в файл Excel\n",
    "frequent_itemsets.to_excel('C:/Users/bondarenKovv/Desktop/Python/Асоциативные правила/Sales_Combinations.xlsx', index=False)\n",
    "\n",
    "# Вывод результатов\n",
    "print(\"Часто продаваемые вместе товары (комбинации товаров):\")\n",
    "print(frequent_itemsets.head(10))\n",
    "\n",
    "\n"
   ]
  },
  {
   "cell_type": "code",
   "execution_count": null,
   "id": "b269d8da",
   "metadata": {},
   "outputs": [],
   "source": []
  }
 ],
 "metadata": {
  "kernelspec": {
   "display_name": "Python 3 (ipykernel)",
   "language": "python",
   "name": "python3"
  },
  "language_info": {
   "codemirror_mode": {
    "name": "ipython",
    "version": 3
   },
   "file_extension": ".py",
   "mimetype": "text/x-python",
   "name": "python",
   "nbconvert_exporter": "python",
   "pygments_lexer": "ipython3",
   "version": "3.11.5"
  }
 },
 "nbformat": 4,
 "nbformat_minor": 5
}
